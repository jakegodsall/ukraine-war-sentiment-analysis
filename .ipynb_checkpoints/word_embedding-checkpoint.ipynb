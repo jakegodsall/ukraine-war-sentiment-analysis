{
 "cells": [
  {
   "cell_type": "markdown",
   "id": "c67d3c42",
   "metadata": {},
   "source": [
    "# Ukraine War Sentiment Analysis Project"
   ]
  },
  {
   "cell_type": "markdown",
   "id": "330bb34f",
   "metadata": {},
   "source": [
    "### Required packages"
   ]
  },
  {
   "cell_type": "code",
   "execution_count": 122,
   "id": "de43aa30",
   "metadata": {},
   "outputs": [],
   "source": [
    "from pathlib import Path\n",
    "import numpy as np\n",
    "import pandas as pd\n",
    "\n",
    "from time import time\n",
    "from datetime import datetime, date\n",
    "\n",
    "import string\n",
    "from sklearn.preprocessing import LabelEncoder\n",
    "\n",
    "from tensorflow import keras\n",
    "from keras.preprocessing.text import Tokenizer, one_hot\n",
    "from keras.preprocessing.sequence import pad_sequences\n",
    "from keras import Sequential\n",
    "from keras import layers\n",
    "\n",
    "import matplotlib.pyplot as plt\n",
    "import seaborn as sns"
   ]
  },
  {
   "cell_type": "markdown",
   "id": "cb301038",
   "metadata": {},
   "source": [
    "### Defining paths and directory creation"
   ]
  },
  {
   "cell_type": "code",
   "execution_count": 123,
   "id": "48e0cafc",
   "metadata": {},
   "outputs": [
    {
     "name": "stdout",
     "output_type": "stream",
     "text": [
      "data/train.json\n",
      "data/test.json\n"
     ]
    }
   ],
   "source": [
    "# define Path object for data directory\n",
    "root_dir = Path('./')\n",
    "data_dir = root_dir / 'data'\n",
    "models_dir = root_dir / 'models'\n",
    "plots_dir = root_dir / 'plots'\n",
    "\n",
    "# print data files\n",
    "for data_file in data_dir.glob('*'):\n",
    "    print(data_file)\n",
    "    \n",
    "# create directory for plots and models\n",
    "plots_dir.mkdir(exist_ok=True)\n",
    "models_dir.mkdir(exist_ok=True)"
   ]
  },
  {
   "cell_type": "markdown",
   "id": "22057d2f",
   "metadata": {},
   "source": [
    "### Loading in datasets"
   ]
  },
  {
   "cell_type": "code",
   "execution_count": 124,
   "id": "0d538832",
   "metadata": {},
   "outputs": [
    {
     "name": "stdout",
     "output_type": "stream",
     "text": [
      "(8263, 3)\n"
     ]
    },
    {
     "data": {
      "text/html": [
       "<div>\n",
       "<style scoped>\n",
       "    .dataframe tbody tr th:only-of-type {\n",
       "        vertical-align: middle;\n",
       "    }\n",
       "\n",
       "    .dataframe tbody tr th {\n",
       "        vertical-align: top;\n",
       "    }\n",
       "\n",
       "    .dataframe thead th {\n",
       "        text-align: right;\n",
       "    }\n",
       "</style>\n",
       "<table border=\"1\" class=\"dataframe\">\n",
       "  <thead>\n",
       "    <tr style=\"text-align: right;\">\n",
       "      <th></th>\n",
       "      <th>text</th>\n",
       "      <th>id</th>\n",
       "      <th>sentiment</th>\n",
       "    </tr>\n",
       "  </thead>\n",
       "  <tbody>\n",
       "    <tr>\n",
       "      <th>0</th>\n",
       "      <td>Досудебное расследование по факту покупки ЕНПФ...</td>\n",
       "      <td>1945</td>\n",
       "      <td>negative</td>\n",
       "    </tr>\n",
       "    <tr>\n",
       "      <th>1</th>\n",
       "      <td>Медики рассказали о состоянии пострадавшего му...</td>\n",
       "      <td>1957</td>\n",
       "      <td>negative</td>\n",
       "    </tr>\n",
       "    <tr>\n",
       "      <th>2</th>\n",
       "      <td>Прошел почти год, как железнодорожным оператор...</td>\n",
       "      <td>1969</td>\n",
       "      <td>negative</td>\n",
       "    </tr>\n",
       "    <tr>\n",
       "      <th>3</th>\n",
       "      <td>По итогам 12 месяцев 2016 года на территории р...</td>\n",
       "      <td>1973</td>\n",
       "      <td>negative</td>\n",
       "    </tr>\n",
       "    <tr>\n",
       "      <th>4</th>\n",
       "      <td>Астана. 21 ноября. Kazakhstan Today - Агентств...</td>\n",
       "      <td>1975</td>\n",
       "      <td>negative</td>\n",
       "    </tr>\n",
       "  </tbody>\n",
       "</table>\n",
       "</div>"
      ],
      "text/plain": [
       "                                                text    id sentiment\n",
       "0  Досудебное расследование по факту покупки ЕНПФ...  1945  negative\n",
       "1  Медики рассказали о состоянии пострадавшего му...  1957  negative\n",
       "2  Прошел почти год, как железнодорожным оператор...  1969  negative\n",
       "3  По итогам 12 месяцев 2016 года на территории р...  1973  negative\n",
       "4  Астана. 21 ноября. Kazakhstan Today - Агентств...  1975  negative"
      ]
     },
     "execution_count": 124,
     "metadata": {},
     "output_type": "execute_result"
    }
   ],
   "source": [
    "train = pd.read_json(data_dir / 'train.json')\n",
    "test = pd.read_json(data_dir / 'test.json')\n",
    "\n",
    "print(train.shape)\n",
    "train.head(5)"
   ]
  },
  {
   "cell_type": "markdown",
   "id": "86d8e45c",
   "metadata": {},
   "source": [
    "### Data preprocessing"
   ]
  },
  {
   "cell_type": "code",
   "execution_count": 125,
   "id": "266d4d7e",
   "metadata": {
    "scrolled": true
   },
   "outputs": [
    {
     "data": {
      "text/plain": [
       "'досудебное расследование по факту покупки енпф пакета облигаций тоо бузгул аурум было начато по инициативе национального банка рк сообщил директор департамента защиты прав потребителей и финансовых услуг нацбанка казахстана александр терентьев\\nоснованием для досудебного расследования стало обращение национального банка письмо от 25 ноября 2016 года было обращение национального банка в правоохранительные органы нам эта сделка показалась сомнительной недостаточно корректной поэтому нацбанк 25 ноября 2016 года обратился в правоохранительные органы это то что я могу озвучить на сегодня идёт следствие проводится проверка – сказал терентьев\\n28 декабря в нацбанке заявили что не знают что стало основанием для проверки енпф\\n23 декабря факт проведения проверки в ао единый накопительный пенсионный фонд подтвердился прессслужба национального банка сообщила что проверку проводят по операциям совершённым ао енпф в отношении инвестирования собственных активов\\nтакже в финрегуляторе сообщали что по сделке енпф на сумму в пять млрд заведено уголовное дело в нацбанке заверяют что всё происходящее не затрагивает пенсионных накоплений казахстанцев\\nесли вы нашли ошибку в тексте выделите ее мышью и нажмите ctrlenter\\n'"
      ]
     },
     "execution_count": 125,
     "metadata": {},
     "output_type": "execute_result"
    }
   ],
   "source": [
    "# to lower\n",
    "train.text = train.text.apply(lambda x: x.lower())\n",
    "test.text = test.text.apply(lambda x: x.lower())\n",
    "\n",
    "# remove punctuation\n",
    "train.text = train.text.apply(lambda x: x.translate(str.maketrans('', '', string.punctuation)))\n",
    "test.text = test.text.apply(lambda x: x.translate(str.maketrans('', '', string.punctuation)))\n",
    "\n",
    "# remove numbers\n",
    "train.text = train.text.apply(lambda doc: ''.join(i for i in doc if not i.isdigit())) \n",
    "test.text = test.text.apply(lambda doc: ''.join(i for i in doc if not i.isdigit())) \n",
    "\n",
    "# stemming\n",
    "from nltk.stem.snowball import SnowballStemmer \n",
    "\n",
    "stemmer = SnowballStemmer(\"russian\") \n",
    "train.text = train.text.apply(lambda doc: ' '.join([stemmer.stem(word) for word in doc.split(' ')]))\n",
    "\n",
    "train.text[0]"
   ]
  },
  {
   "cell_type": "markdown",
   "id": "da1e730f",
   "metadata": {},
   "source": [
    "### Visualising lengths of documents"
   ]
  },
  {
   "cell_type": "code",
   "execution_count": 131,
   "id": "f01152b1",
   "metadata": {},
   "outputs": [
    {
     "name": "stdout",
     "output_type": "stream",
     "text": [
      "Average document: 515 words\n",
      "Longest document: 49039 words\n",
      "1 std above the mean: 1707 words\n"
     ]
    },
    {
     "data": {
      "image/png": "[encoded data removed]",
      "text/plain": [
       "<Figure size 432x288 with 1 Axes>"
      ]
     },
     "metadata": {
      "needs_background": "light"
     },
     "output_type": "display_data"
    }
   ],
   "source": [
    "# get the number of words in each sample\n",
    "doc_len = train.text.apply(lambda x: len(x.split(' '))).to_numpy()\n",
    "max_words = int(doc_len.mean() + doc_len.std())\n",
    "\n",
    "# plot histogram\n",
    "sns.histplot(doc_len)\n",
    "plt.xlabel(\"Number of words\", fontsize=13)\n",
    "plt.ylabel(\"Count\", fontsize=13)\n",
    "\n",
    "print(f\"Average document: {int(doc_len.mean())} words\")\n",
    "print(f\"Longest document: {doc_len.max()} words\")\n",
    "print(f\"1 std above the mean: {max_words} words\")"
   ]
  },
  {
   "cell_type": "code",
   "execution_count": 132,
   "id": "1618639f",
   "metadata": {},
   "outputs": [
    {
     "name": "stdout",
     "output_type": "stream",
     "text": [
      "Number of training examples: 7871\n",
      "Number of test examples: 1943\n"
     ]
    },
    {
     "data": {
      "image/png": "[encoded data removed]",
      "text/plain": [
       "<Figure size 432x288 with 1 Axes>"
      ]
     },
     "metadata": {
      "needs_background": "light"
     },
     "output_type": "display_data"
    }
   ],
   "source": [
    "# removing any documents with len(words) greater than 1 std dev from mean\n",
    "train = train[train.text.apply(lambda x: len(x.split(' '))) < max_words]\n",
    "test = test[test.text.apply(lambda x: len(x.split(' '))) < max_words]\n",
    "\n",
    "sns.histplot(train.text.apply(lambda x: len(x.split(' '))))\n",
    "plt.xlabel(\"Number of words\", fontsize=13)\n",
    "plt.ylabel(\"Count\", fontsize=13)\n",
    "\n",
    "print(f\"Number of training examples: {train.shape[0]}\")\n",
    "print(f\"Number of test examples: {test.shape[0]}\")"
   ]
  },
  {
   "cell_type": "code",
   "execution_count": 133,
   "id": "af07fa93",
   "metadata": {},
   "outputs": [],
   "source": [
    "### under-sampling for balanced data set\n",
    "\n",
    "# print(train.sentiment.value_counts())\n",
    "\n",
    "# positive_train = train[train.sentiment == 'positive'].sample(1373)\n",
    "# neutral_train = train[train.sentiment == 'neutral'].sample(1373)\n",
    "# negative_train = train[train.sentiment == 'negative'].sample(1373)\n",
    "\n",
    "# train = pd.DataFrame(np.vstack([positive_train, neutral_train, negative_train]))\n",
    "# train.columns = ['text', 'id', 'sentiment']\n",
    "\n",
    "# print(train.sentiment.value_counts())"
   ]
  },
  {
   "cell_type": "code",
   "execution_count": 134,
   "id": "770993ca",
   "metadata": {},
   "outputs": [
    {
     "name": "stdout",
     "output_type": "stream",
     "text": [
      "X_train shape: (7871,)\n",
      "y_train shape: (7871,)\n",
      "\n",
      "X_test shape: (1943,)\n"
     ]
    }
   ],
   "source": [
    "X_train = train.text\n",
    "y_train = train.sentiment\n",
    "\n",
    "X_test = test.text\n",
    "\n",
    "print(f\"X_train shape: {X_train.shape}\")\n",
    "print(f\"y_train shape: {y_train.shape}\")\n",
    "print(f\"\\nX_test shape: {X_test.shape}\")"
   ]
  },
  {
   "cell_type": "code",
   "execution_count": 135,
   "id": "69e7098d",
   "metadata": {},
   "outputs": [],
   "source": [
    "# # number of words to consider in the vocabulary\n",
    "# vocab_size = 1000\n",
    "\n",
    "# # preprocessing X_train\n",
    "# docs = X_train.to_numpy()\n",
    "# encoded_docs = [one_hot(d, vocab_size) for d in docs]\n",
    "# padded_docs = pad_sequences(encoded_docs, maxlen=max_words, padding='post')\n",
    "\n",
    "# # preprocessing y_train\n",
    "# encoder = LabelEncoder()\n",
    "# labels = encoder.fit_transform(y_train)\n",
    "\n",
    "# print(f\"X_train shape: {padded_docs.shape}\")\n",
    "# print(f\"y_train shape: {labels.shape}\")\n",
    "\n"
   ]
  },
  {
   "cell_type": "markdown",
   "id": "869656c0",
   "metadata": {},
   "source": [
    "# Model Saving Function"
   ]
  },
  {
   "cell_type": "code",
   "execution_count": 136,
   "id": "1faf8e58",
   "metadata": {},
   "outputs": [],
   "source": [
    "def preprocess_data(X_train, y_train, vocab_size, max_words):\n",
    "    #preprocessing X_train\n",
    "    docs = X_train.to_numpy()\n",
    "    encoded_docs = [one_hot(d, vocab_size) for d in docs]\n",
    "    padded_docs = pad_sequences(encoded_docs, maxlen=max_words, padding='post')\n",
    "    # preprocessing y_train\n",
    "    encoder = LabelEncoder()\n",
    "    labels = encoder.fit_transform(y_train)\n",
    "    \n",
    "    return padded_docs, labels\n",
    "\n",
    "def define_model(name, vocab_size,\n",
    "                 embedding_size,\n",
    "                 max_words,\n",
    "                 rnn_units,\n",
    "                 optimizer):\n",
    "    model = Sequential(name=name)\n",
    "    model.add(layers.Embedding(input_dim=vocab_size,\n",
    "                               output_dim=embedding_size,\n",
    "                               input_length=max_words,\n",
    "             name=\"Embedding\"))\n",
    "    model.add(layers.LSTM(rnn_units, name=\"LSTM\"))\n",
    "    model.add(layers.Dense(3, activation='softmax', name=\"Dense\"))\n",
    "    \n",
    "    model.compile(optimizer=optimizer,\n",
    "                  loss='sparse_categorical_crossentropy',\n",
    "                  metrics=['accuracy'])\n",
    "    return model\n",
    "\n",
    "def fit_model(model, X_train, y_train, num_epochs, val):\n",
    "    model.fit(X_train, y_train, epochs=num_epochs, validation_split=val)\n",
    "    \n",
    "def create_json(model, training_time):\n",
    "    \n",
    "    today = date.today()\n",
    "    now = datetime.now().time()\n",
    "    \n",
    "    model_json = {\n",
    "        \"Date\": today.strftime(\"%d/%m/%Y\"),\n",
    "        \"Time\": now.strftime(\"%H:%M:%S\"),\n",
    "        \"Name\": model.name,\n",
    "        \"Layers\": model.layers,\n",
    "        \"History\": model.history.history,\n",
    "        \"Layers\" : [{\"Name\": layer.name,\n",
    "                     \"Input\": str(layer.input),\n",
    "                     \"Output\": str(layer.output)} for layer in model.layers],\n",
    "        \"Vocab size\": vocab_size,\n",
    "        \"Embedding size\": embedding_size,\n",
    "        \"Max words\": max_words,\n",
    "        \"RNN units\": rnn_units,\n",
    "        \"Optimizer\": optimizer,\n",
    "        \"Epochs\": num_epochs,\n",
    "        \"Validation split:\": val,\n",
    "        \"Training time\": training_time\n",
    "    }\n",
    "    return model_json\n",
    "\n",
    "def plot_model(model):\n",
    "    \n",
    "    num_epochs = len(model.history.history['accuracy'])\n",
    "    \n",
    "    fig, (ax1, ax2) = plt.subplots(1, 2, figsize=(8, 4))\n",
    "    \n",
    "    ax1.plot(model.history.history['accuracy'])\n",
    "    ax1.plot(model.history.history['val_accuracy'])\n",
    "    ax1.set_title(\"Accuracy\", fontsize=13)\n",
    "    ax1.set_ylabel('Accuracy', fontsize=13)\n",
    "    ax1.set_xlabel('Number of epochs', fontsize=13)\n",
    "    ax1.set_xticks(range(0, num_epochs), range(1, num_epochs + 1))\n",
    "    ax1.legend(['Train', 'Validation'], loc='upper left')\n",
    "    \n",
    "    ax2.plot(model.history.history['loss'])\n",
    "    ax2.plot(model.history.history['val_loss'])\n",
    "    ax2.set_title(\"Loss\", fontsize=13)\n",
    "    ax2.set_ylabel('Loss', fontsize=13)\n",
    "    ax2.set_xlabel('Number of epochs', fontsize=13)\n",
    "    ax2.set_xticks(range(0, num_epochs), range(1, num_epochs + 1))\n",
    "    ax2.legend(['Train', 'Validation'], loc='upper left')\n",
    "\n",
    "    return fig\n",
    "    \n",
    "def train_and_save(name, X_train, y_train, vocab_size, embedding_size,\n",
    "                   max_words, rnn_units, optimizer, num_epochs,\n",
    "                   val):\n",
    "    # preprocess data\n",
    "    X_train, y_train = preprocess_data(X_train, y_train, vocab_size,\n",
    "                                    max_words)\n",
    "    \n",
    "    # compile the model\n",
    "    test_model = define_model(name, vocab_size,\n",
    "                         embedding_size,\n",
    "                         max_words,\n",
    "                         rnn_units,\n",
    "                         optimizer)\n",
    "    \n",
    "    start = time()\n",
    "    fit_model(test_model, X_train, y_train, num_epochs, val)\n",
    "    training_time = time()-start\n",
    "    \n",
    "    model_json = create_json(test_model, training_time)\n",
    "\n",
    "    plots = plot_model(test_model)\n",
    "\n",
    "    plots.savefig(plots_dir / model_json['Name'])\n",
    "\n",
    "    with open(models_dir / (model_json[\"Name\"] + '.json'), 'w') as json_file:\n",
    "        json.dump(model_json, json_file)"
   ]
  },
  {
   "cell_type": "code",
   "execution_count": null,
   "id": "928f1aab",
   "metadata": {},
   "outputs": [
    {
     "name": "stdout",
     "output_type": "stream",
     "text": [
      "Epoch 1/10\n",
      "165/197 [========================>.....] - ETA: 8s - loss: 1.0213 - accuracy: 0.4854"
     ]
    }
   ],
   "source": [
    "name = \"lstm_base_model\"\n",
    "vocab_size = [200, 400, 800, 1600, 3200]\n",
    "embedding_size = [200, 300, 400, 500, 600]\n",
    "max_words = [500, 750, 1000, 1500, 2000]\n",
    "rnn_units = [16, 32, 64, 128, 256]\n",
    "optimizer = 'adam'\n",
    "num_epochs = 10\n",
    "val = 0.2\n",
    "\n",
    "for i in range(1, 6):\n",
    "    name = \"lstm_base_model\" + f\"_{i}\"\n",
    "    \n",
    "    train_and_save(name,\n",
    "                   X_train,\n",
    "                   y_train,\n",
    "                   vocab_size[i],\n",
    "                   embedding_size[i],\n",
    "                   max_words[i],\n",
    "                   rnn_units[i],\n",
    "                   optimizer,\n",
    "                   num_epochs,\n",
    "                   val)"
   ]
  },
  {
   "cell_type": "code",
   "execution_count": 142,
   "id": "61aec61d",
   "metadata": {},
   "outputs": [],
   "source": [
    "def create_json(model):\n",
    "    \n",
    "    today = date.today()\n",
    "    now = datetime.now().time()\n",
    "    \n",
    "    model_json = {\n",
    "        \"Date\": today.strftime(\"%d/%m/%Y\"),\n",
    "        \"Time\": now.strftime(\"%H:%M:%S\"),\n",
    "        \"Name\": model.name,\n",
    "        \"Layers\": model.layers,\n",
    "        \"History\": model.history.history,\n",
    "        \"Layers\" : [{\"Name\": layer.name,\n",
    "                     \"Input\": str(layer.input),\n",
    "                     \"Output\": str(layer.output)} for layer in model.layers],\n",
    "        \"Vocab size\": vocab_size,\n",
    "        \"Embedding size\": embedding_size,\n",
    "        \"Max words\": max_words,\n",
    "        \"RNN units\": rnn_units,\n",
    "        \"Optimizer\": optimizer,\n",
    "        \"Epochs\": num_epochs,\n",
    "        \"Validation split:\": val\n",
    "    }\n",
    "    return model_json\n",
    "\n",
    "model_json = create_json(test_model)"
   ]
  },
  {
   "cell_type": "code",
   "execution_count": null,
   "id": "33583d56",
   "metadata": {},
   "outputs": [],
   "source": []
  },
  {
   "cell_type": "code",
   "execution_count": 37,
   "id": "aa557fc8",
   "metadata": {},
   "outputs": [],
   "source": [
    "import json\n",
    "\n",
    "with open(models_dir / (model_json[\"Name\"] + '.json'), 'w') as json_file:\n",
    "    json.dump(model_json, json_file)"
   ]
  },
  {
   "cell_type": "code",
   "execution_count": 18,
   "id": "35269b4f",
   "metadata": {
    "scrolled": true
   },
   "outputs": [
    {
     "name": "stdout",
     "output_type": "stream",
     "text": [
      "{'Date': '25/04/2022',\n",
      " 'Embedding size': 50,\n",
      " 'Epochs': 2,\n",
      " 'History': {'accuracy': [0.4866581857204437, 0.4887230098247528],\n",
      "             'loss': [1.0285208225250244, 1.0177451372146606],\n",
      "             'val_accuracy': [0.47238096594810486, 0.47111111879348755],\n",
      "             'val_loss': [1.0263804197311401, 1.0257757902145386]},\n",
      " 'Layers': [{'Input': <KerasTensor: shape=(None, 1000) dtype=float32 (created by layer 'Embedding_input')>,\n",
      "             'Name': 'Embedding',\n",
      "             'Output': <KerasTensor: shape=(None, 1000, 50) dtype=float32 (created by layer 'Embedding')>},\n",
      "            {'Input': <KerasTensor: shape=(None, 1000, 50) dtype=float32 (created by layer 'Embedding')>,\n",
      "             'Name': 'LSTM',\n",
      "             'Output': <KerasTensor: shape=(None, 8) dtype=float32 (created by layer 'LSTM')>},\n",
      "            {'Input': <KerasTensor: shape=(None, 8) dtype=float32 (created by layer 'LSTM')>,\n",
      "             'Name': 'Dense',\n",
      "             'Output': <KerasTensor: shape=(None, 3) dtype=float32 (created by layer 'Dense')>}],\n",
      " 'Max words': 1000,\n",
      " 'Optimizer': 'adam',\n",
      " 'RNN units': 8,\n",
      " 'Time': '18:10:50',\n",
      " 'Validation split:': 0.2,\n",
      " 'Vocab size': 500}\n"
     ]
    }
   ],
   "source": [
    "import pprint\n",
    "\n",
    "pprint.pprint(model_json)"
   ]
  },
  {
   "cell_type": "markdown",
   "id": "165f5e79",
   "metadata": {},
   "source": [
    "### Training a base model"
   ]
  },
  {
   "cell_type": "code",
   "execution_count": null,
   "id": "451dd8be",
   "metadata": {},
   "outputs": [],
   "source": [
    "# number of words to consider in the vocabulary\n",
    "vocab_size = 1000\n",
    "\n",
    "# preprocessing X_train\n",
    "docs = X_train.to_numpy()\n",
    "encoded_docs = [one_hot(d, vocab_size) for d in docs]\n",
    "padded_docs = pad_sequences(encoded_docs, maxlen=max_words, padding='post')\n",
    "\n",
    "# preprocessing y_train\n",
    "encoder = LabelEncoder()\n",
    "labels = encoder.fit_transform(y_train)\n",
    "\n",
    "print(f\"X_train shape: {padded_docs.shape}\")\n",
    "print(f\"y_train shape: {labels.shape}\")"
   ]
  },
  {
   "cell_type": "code",
   "execution_count": null,
   "id": "1ead4b47",
   "metadata": {},
   "outputs": [],
   "source": [
    "opt = keras.optimizers.SGD(learning_rate=0.0001)\n",
    "\n",
    "rnn_out = 8\n",
    "\n",
    "model = Sequential()\n",
    "model.add(layers.Embedding(vocab_size, 8, input_length=max_words))\n",
    "model.add(layers.Bidirectional(LSTM(rnn_out))\n",
    "model.add(layers.LSTM(rnn_out))\n",
    "model.add(layers.Dense(1, activation='sigmoid'))\n",
    "\n",
    "model.compile(optimizer='adam',\n",
    "              loss='binary_crossentropy',\n",
    "              metrics=['accuracy'])\n",
    "\n",
    "print(model.summary())"
   ]
  },
  {
   "cell_type": "code",
   "execution_count": null,
   "id": "44313884",
   "metadata": {},
   "outputs": [],
   "source": [
    "history = model.fit(padded_docs, labels, epochs=30, verbose=1, validation_split=0.2)"
   ]
  },
  {
   "cell_type": "code",
   "execution_count": null,
   "id": "da1487e3",
   "metadata": {},
   "outputs": [],
   "source": [
    "plt.plot(history.history['accuracy'])\n",
    "plt.plot(history.history['val_accuracy'])\n",
    "plt.title('model accuracy')\n",
    "plt.ylabel('accuracy')\n",
    "plt.xlabel+('epoch')\n",
    "plt.legend(['train', 'val'], loc='upper left')\n",
    "plt.show()"
   ]
  },
  {
   "cell_type": "markdown",
   "id": "87eb94df",
   "metadata": {},
   "source": [
    "### Training with pretrained embeddings"
   ]
  },
  {
   "cell_type": "code",
   "execution_count": null,
   "id": "1cb3abbe",
   "metadata": {},
   "outputs": [],
   "source": [
    "path_to_model_file = \"model/model.txt\"\n",
    "\n",
    "embeddings_index = {}\n",
    "with open(path_to_model_file) as f:\n",
    "    for line in f:\n",
    "        word, coefs = line.split(maxsplit=1)\n",
    "        coefs = np.fromstring(coefs, \"f\", sep=\" \")\n",
    "        embeddings_index[word.split('_')[0]] = coefs\n",
    "\n",
    "print(\"Found %s word vectors.\" % len(embeddings_index))"
   ]
  },
  {
   "cell_type": "code",
   "execution_count": null,
   "id": "2fd523fa",
   "metadata": {},
   "outputs": [],
   "source": [
    "t = Tokenizer()\n",
    "\n",
    "t.fit_on_texts(X_train)\n",
    "\n",
    "vocab_size = len(t.word_index) + 1\n",
    "\n",
    "encoded_docs = t.texts_to_sequences(X_train)\n",
    "\n",
    "max_length = 200\n",
    "padded_docs = pad_sequences(encoded_docs, maxlen=max_length, padding='post')"
   ]
  },
  {
   "cell_type": "code",
   "execution_count": null,
   "id": "33d64016",
   "metadata": {},
   "outputs": [],
   "source": [
    "# create a weight matrix for words in training docs\n",
    "embedding_matrix = np.zeros((vocab_size, 300))\n",
    "for word, i in t.word_index.items():\n",
    "    embedding_vector = embeddings_index.get(word)\n",
    "    if embedding_vector is not None:\n",
    "        embedding_matrix[i] = embedding_vector\n",
    "\n",
    "embedding_matrix.shape"
   ]
  },
  {
   "cell_type": "code",
   "execution_count": null,
   "id": "82f92744",
   "metadata": {},
   "outputs": [],
   "source": [
    "padded_docs"
   ]
  },
  {
   "cell_type": "code",
   "execution_count": null,
   "id": "9f3fbe64",
   "metadata": {},
   "outputs": [],
   "source": [
    "from tensorflow import keras\n",
    "opt = keras.optimizers.SGD(learning_rate=0.0001)"
   ]
  },
  {
   "cell_type": "code",
   "execution_count": null,
   "id": "6e67e6cb",
   "metadata": {},
   "outputs": [],
   "source": [
    "lstm_out = 16\n",
    "\n",
    "model = Sequential()\n",
    "model.add(layers.Embedding(vocab_size, 300, weights=[embedding_matrix], input_length=max_length, trainable=False))\n",
    "model.add(layers.LSTM(lstm_out, dropout=0.2, recurrent_dropout=0.2))\n",
    "model.add(layers.Dense(3, activation='softmax'))\n",
    "\n",
    "model.compile(optimizer='adam', loss='sparse_categorical_crossentropy', metrics=['accuracy'])\n",
    "\n",
    "print(model.summary())"
   ]
  },
  {
   "cell_type": "code",
   "execution_count": null,
   "id": "6674a0ed",
   "metadata": {},
   "outputs": [],
   "source": [
    "\n",
    "encoder = LabelEncoder()\n",
    "labels = encoder.fit_transform(train.sentiment)"
   ]
  },
  {
   "cell_type": "code",
   "execution_count": null,
   "id": "38c2620e",
   "metadata": {},
   "outputs": [],
   "source": [
    "history = model.fit(padded_docs, labels, epochs=20, validation_split=0.2, verbose=1)"
   ]
  },
  {
   "cell_type": "code",
   "execution_count": 74,
   "id": "1907d40e",
   "metadata": {},
   "outputs": [
    {
     "data": {
      "image/png": "[encoded data removed]",
      "text/plain": [
       "<Figure size 576x288 with 2 Axes>"
      ]
     },
     "metadata": {
      "needs_background": "light"
     },
     "output_type": "display_data"
    }
   ],
   "source": []
  },
  {
   "cell_type": "code",
   "execution_count": 25,
   "id": "5c44caa9",
   "metadata": {},
   "outputs": [
    {
     "data": {
      "text/plain": [
       "{'loss': [1.0287514925003052,\n",
       "  1.017348289489746,\n",
       "  1.0104562044143677,\n",
       "  1.0039159059524536,\n",
       "  0.9964234828948975,\n",
       "  0.9909166693687439,\n",
       "  0.9876000881195068,\n",
       "  0.9848058223724365,\n",
       "  0.9828833341598511,\n",
       "  0.9794633984565735],\n",
       " 'accuracy': [0.4731575548648834,\n",
       "  0.4899936616420746,\n",
       "  0.4965057075023651,\n",
       "  0.49809402227401733,\n",
       "  0.5001588463783264,\n",
       "  0.5014294981956482,\n",
       "  0.50270015001297,\n",
       "  0.5054002404212952,\n",
       "  0.5074650645256042,\n",
       "  0.5090533494949341],\n",
       " 'val_loss': [1.0263227224349976,\n",
       "  1.025442361831665,\n",
       "  1.026673436164856,\n",
       "  1.026407241821289,\n",
       "  1.0299270153045654,\n",
       "  1.032286286354065,\n",
       "  1.041617751121521,\n",
       "  1.0488617420196533,\n",
       "  1.0469111204147339,\n",
       "  1.0512770414352417],\n",
       " 'val_accuracy': [0.47238096594810486,\n",
       "  0.47111111879348755,\n",
       "  0.471746027469635,\n",
       "  0.46666666865348816,\n",
       "  0.46857142448425293,\n",
       "  0.46666666865348816,\n",
       "  0.46539682149887085,\n",
       "  0.4628571569919586,\n",
       "  0.4660317599773407,\n",
       "  0.46539682149887085]}"
      ]
     },
     "execution_count": 25,
     "metadata": {},
     "output_type": "execute_result"
    }
   ],
   "source": [
    "test_model.history.history"
   ]
  },
  {
   "cell_type": "code",
   "execution_count": 77,
   "id": "0b01d84e",
   "metadata": {},
   "outputs": [
    {
     "ename": "TypeError",
     "evalue": "'Sequential' object is not subscriptable",
     "output_type": "error",
     "traceback": [
      "\u001b[0;31m---------------------------------------------------------------------------\u001b[0m",
      "\u001b[0;31mTypeError\u001b[0m                                 Traceback (most recent call last)",
      "Input \u001b[0;32mIn [77]\u001b[0m, in \u001b[0;36m<cell line: 27>\u001b[0;34m()\u001b[0m\n\u001b[1;32m     23\u001b[0m     \u001b[38;5;28;01mreturn\u001b[39;00m fig\n\u001b[1;32m     25\u001b[0m a \u001b[38;5;241m=\u001b[39m plot_model(test_model)\n\u001b[0;32m---> 27\u001b[0m a\u001b[38;5;241m.\u001b[39msavefig(plots_dir \u001b[38;5;241m/\u001b[39m \u001b[43mtest_model\u001b[49m\u001b[43m[\u001b[49m\u001b[38;5;124;43m'\u001b[39;49m\u001b[38;5;124;43mName\u001b[39;49m\u001b[38;5;124;43m'\u001b[39;49m\u001b[43m]\u001b[49m)\n",
      "\u001b[0;31mTypeError\u001b[0m: 'Sequential' object is not subscriptable"
     ]
    },
    {
     "data": {
      "image/png": "[encoded data removed]",
      "text/plain": [
       "<Figure size 576x288 with 2 Axes>"
      ]
     },
     "metadata": {
      "needs_background": "light"
     },
     "output_type": "display_data"
    }
   ],
   "source": [
    "def plot_model(model):\n",
    "    \n",
    "    num_epochs = len(model.history.history['accuracy'])\n",
    "    \n",
    "    fig, (ax1, ax2) = plt.subplots(1, 2, figsize=(8, 4))\n",
    "    \n",
    "    ax1.plot(model.history.history['accuracy'])\n",
    "    ax1.plot(model.history.history['val_accuracy'])\n",
    "    ax1.set_title(\"Accuracy\", fontsize=13)\n",
    "    ax1.set_ylabel('Accuracy', fontsize=13)\n",
    "    ax1.set_xlabel('Number of epochs', fontsize=13)\n",
    "    ax1.set_xticks(range(0, num_epochs), range(1, num_epochs + 1))\n",
    "    ax1.legend(['Train', 'Validation'], loc='upper left')\n",
    "    \n",
    "    ax2.plot(model.history.history['loss'])\n",
    "    ax2.plot(model.history.history['val_loss'])\n",
    "    ax2.set_title(\"Loss\", fontsize=13)\n",
    "    ax2.set_ylabel('Loss', fontsize=13)\n",
    "    ax2.set_xlabel('Number of epochs', fontsize=13)\n",
    "    ax2.set_xticks(range(0, num_epochs), range(1, num_epochs + 1))\n",
    "    ax2.legend(['Train', 'Validation'], loc='upper left')\n",
    "\n",
    "    return fig\n",
    "\n",
    "a = plot_model(test_model)\n",
    "\n",
    "a.savefig(plots_dir / test_model['Name'])"
   ]
  },
  {
   "cell_type": "code",
   "execution_count": null,
   "id": "53325bcf",
   "metadata": {},
   "outputs": [],
   "source": []
  }
 ],
 "metadata": {
  "kernelspec": {
   "display_name": "Python 3 (ipykernel)",
   "language": "python",
   "name": "python3"
  },
  "language_info": {
   "codemirror_mode": {
    "name": "ipython",
    "version": 3
   },
   "file_extension": ".py",
   "mimetype": "text/x-python",
   "name": "python",
   "nbconvert_exporter": "python",
   "pygments_lexer": "ipython3",
   "version": "3.10.4"
  }
 },
 "nbformat": 4,
 "nbformat_minor": 5
}
