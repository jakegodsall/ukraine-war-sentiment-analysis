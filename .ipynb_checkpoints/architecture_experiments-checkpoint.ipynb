{
 "cells": [
  {
   "cell_type": "markdown",
   "id": "c67d3c42",
   "metadata": {},
   "source": [
    "# Ukraine War Sentiment Analysis Project"
   ]
  },
  {
   "cell_type": "markdown",
   "id": "330bb34f",
   "metadata": {},
   "source": [
    "### Required packages"
   ]
  },
  {
   "cell_type": "code",
   "execution_count": 176,
   "id": "de43aa30",
   "metadata": {},
   "outputs": [],
   "source": [
    "from pathlib import Path\n",
    "import numpy as np\n",
    "import pandas as pd\n",
    "import json\n",
    "\n",
    "import imblearn\n",
    "\n",
    "from time import time\n",
    "from datetime import datetime, date\n",
    "\n",
    "import string\n",
    "from sklearn.preprocessing import LabelEncoder\n",
    "\n",
    "import tensorflow as tf\n",
    "from tensorflow import keras\n",
    "from keras.preprocessing.text import Tokenizer, one_hot\n",
    "from keras.preprocessing.sequence import pad_sequences\n",
    "from keras import Sequential\n",
    "from keras import layers\n",
    "\n",
    "import matplotlib.pyplot as plt\n",
    "import seaborn as sns"
   ]
  },
  {
   "cell_type": "markdown",
   "id": "cb301038",
   "metadata": {},
   "source": [
    "### Defining paths and directory creation"
   ]
  },
  {
   "cell_type": "code",
   "execution_count": 241,
   "id": "48e0cafc",
   "metadata": {},
   "outputs": [
    {
     "name": "stdout",
     "output_type": "stream",
     "text": [
      "data/train.json\n",
      "data/test_cleaned.csv\n",
      "data/train_cleaned.csv\n",
      "data/test.json\n",
      "data/twitter_train.csv\n"
     ]
    }
   ],
   "source": [
    "# define Path object for data directory\n",
    "root_dir = Path('./')\n",
    "data_dir = root_dir / 'data'\n",
    "models_dir = root_dir / 'models'\n",
    "plots_dir = root_dir / 'plots'\n",
    "\n",
    "# print data files\n",
    "for data_file in data_dir.glob('*'):\n",
    "    print(data_file)\n",
    "    \n",
    "# create directory for plots and models\n",
    "plots_dir.mkdir(exist_ok=True)\n",
    "models_dir.mkdir(exist_ok=True)"
   ]
  },
  {
   "cell_type": "markdown",
   "id": "22057d2f",
   "metadata": {},
   "source": [
    "### Loading in datasets"
   ]
  },
  {
   "cell_type": "code",
   "execution_count": 242,
   "id": "0d538832",
   "metadata": {},
   "outputs": [
    {
     "name": "stdout",
     "output_type": "stream",
     "text": [
      "(8263, 3)\n"
     ]
    },
    {
     "data": {
      "text/html": [
       "<div>\n",
       "<style scoped>\n",
       "    .dataframe tbody tr th:only-of-type {\n",
       "        vertical-align: middle;\n",
       "    }\n",
       "\n",
       "    .dataframe tbody tr th {\n",
       "        vertical-align: top;\n",
       "    }\n",
       "\n",
       "    .dataframe thead th {\n",
       "        text-align: right;\n",
       "    }\n",
       "</style>\n",
       "<table border=\"1\" class=\"dataframe\">\n",
       "  <thead>\n",
       "    <tr style=\"text-align: right;\">\n",
       "      <th></th>\n",
       "      <th>Unnamed: 0</th>\n",
       "      <th>text</th>\n",
       "      <th>sentiment</th>\n",
       "    </tr>\n",
       "  </thead>\n",
       "  <tbody>\n",
       "    <tr>\n",
       "      <th>0</th>\n",
       "      <td>0</td>\n",
       "      <td>досудебное расследование факту покупки енпф па...</td>\n",
       "      <td>0</td>\n",
       "    </tr>\n",
       "    <tr>\n",
       "      <th>1</th>\n",
       "      <td>1</td>\n",
       "      <td>медики рассказали состоянии пострадавшего мужч...</td>\n",
       "      <td>0</td>\n",
       "    </tr>\n",
       "    <tr>\n",
       "      <th>2</th>\n",
       "      <td>2</td>\n",
       "      <td>прошел год железнодорожным операторам запретил...</td>\n",
       "      <td>0</td>\n",
       "    </tr>\n",
       "    <tr>\n",
       "      <th>3</th>\n",
       "      <td>3</td>\n",
       "      <td>итогам  месяцев  года территории республики вы...</td>\n",
       "      <td>0</td>\n",
       "    </tr>\n",
       "    <tr>\n",
       "      <th>4</th>\n",
       "      <td>4</td>\n",
       "      <td>астана  ноября kazakhstan today  агентство рк ...</td>\n",
       "      <td>0</td>\n",
       "    </tr>\n",
       "  </tbody>\n",
       "</table>\n",
       "</div>"
      ],
      "text/plain": [
       "   Unnamed: 0                                               text  sentiment\n",
       "0           0  досудебное расследование факту покупки енпф па...          0\n",
       "1           1  медики рассказали состоянии пострадавшего мужч...          0\n",
       "2           2  прошел год железнодорожным операторам запретил...          0\n",
       "3           3  итогам  месяцев  года территории республики вы...          0\n",
       "4           4  астана  ноября kazakhstan today  агентство рк ...          0"
      ]
     },
     "execution_count": 242,
     "metadata": {},
     "output_type": "execute_result"
    }
   ],
   "source": [
    "train = pd.read_csv(data_dir / 'train_cleaned.csv')\n",
    "test = pd.read_csv(data_dir / 'test_cleaned.csv')\n",
    "\n",
    "print(train.shape)\n",
    "train.head(5)"
   ]
  },
  {
   "cell_type": "markdown",
   "id": "da1e730f",
   "metadata": {},
   "source": [
    "### Visualising the dataset"
   ]
  },
  {
   "cell_type": "code",
   "execution_count": 243,
   "id": "d7ff3bec",
   "metadata": {},
   "outputs": [],
   "source": [
    "train = train.dropna()"
   ]
  },
  {
   "cell_type": "code",
   "execution_count": 244,
   "id": "f01152b1",
   "metadata": {},
   "outputs": [
    {
     "name": "stdout",
     "output_type": "stream",
     "text": [
      "Average document: 436 words\n",
      "Longest document: 40554 words\n",
      "1 std above the mean: 500 words\n"
     ]
    },
    {
     "data": {
      "image/png": "[encoded data removed]",
      "text/plain": [
       "<Figure size 432x288 with 1 Axes>"
      ]
     },
     "metadata": {
      "needs_background": "light"
     },
     "output_type": "display_data"
    }
   ],
   "source": [
    "# get the number of words in each sample\n",
    "doc_len = train.text.apply(lambda doc: len(doc.split(' '))).to_numpy()\n",
    "max_words = 500\n",
    "\n",
    "# plot histogram\n",
    "sns.histplot(doc_len)\n",
    "plt.xlabel(\"Number of words\", fontsize=13)\n",
    "plt.ylabel(\"Count\", fontsize=13)\n",
    "\n",
    "print(f\"Average document: {int(doc_len.mean())} words\")\n",
    "print(f\"Longest document: {doc_len.max()} words\")\n",
    "print(f\"1 std above the mean: {max_words} words\")"
   ]
  },
  {
   "cell_type": "code",
   "execution_count": 245,
   "id": "1618639f",
   "metadata": {},
   "outputs": [
    {
     "name": "stdout",
     "output_type": "stream",
     "text": [
      "Number of training examples: 6617\n",
      "Number of test examples: 1664\n"
     ]
    },
    {
     "data": {
      "image/png": "[encoded data removed]",
      "text/plain": [
       "<Figure size 432x288 with 1 Axes>"
      ]
     },
     "metadata": {
      "needs_background": "light"
     },
     "output_type": "display_data"
    }
   ],
   "source": [
    "# removing any documents with len(words) greater than 1 std dev from mean\n",
    "train = train[train.text.apply(lambda x: len(x.split(' '))) < max_words]\n",
    "test = test[test.text.apply(lambda x: len(x.split(' '))) < max_words]\n",
    "\n",
    "sns.histplot(train.text.apply(lambda x: len(x.split(' '))))\n",
    "plt.xlabel(\"Number of words\", fontsize=13)\n",
    "plt.ylabel(\"Count\", fontsize=13)\n",
    "\n",
    "print(f\"Number of training examples: {train.shape[0]}\")\n",
    "print(f\"Number of test examples: {test.shape[0]}\")"
   ]
  },
  {
   "cell_type": "code",
   "execution_count": 246,
   "id": "770993ca",
   "metadata": {},
   "outputs": [
    {
     "name": "stdout",
     "output_type": "stream",
     "text": [
      "X_train shape: (6617,)\n",
      "y_train shape: (6617,)\n",
      "\n",
      "X_test shape: (1664,)\n"
     ]
    }
   ],
   "source": [
    "X_train = train.text\n",
    "y_train = train.sentiment\n",
    "\n",
    "X_test = test.text\n",
    "\n",
    "print(f\"X_train shape: {X_train.shape}\")\n",
    "print(f\"y_train shape: {y_train.shape}\")\n",
    "print(f\"\\nX_test shape: {X_test.shape}\")"
   ]
  },
  {
   "cell_type": "code",
   "execution_count": 247,
   "id": "40190385",
   "metadata": {},
   "outputs": [
    {
     "name": "stdout",
     "output_type": "stream",
     "text": [
      "Number of distinct words: 82732\n"
     ]
    }
   ],
   "source": [
    "from collections import Counter\n",
    "vocab_count = Counter()\n",
    "\n",
    "X_train.str.split().apply(vocab_count.update)\n",
    "\n",
    "vocab_count = dict(vocab_count)\n",
    "\n",
    "print(f\"Number of distinct words: {len(vocab_count)}\")\n",
    "\n",
    "#sns.histplot(vocab_count.values())"
   ]
  },
  {
   "cell_type": "code",
   "execution_count": 248,
   "id": "53d64097",
   "metadata": {},
   "outputs": [
    {
     "name": "stdout",
     "output_type": "stream",
     "text": [
      "Cut-off: 3\n",
      "Words included: 37175\n",
      "Words not included: 45557\n",
      "\n",
      "Cut-off: 5\n",
      "Words included: 26051\n",
      "Words not included: 56681\n",
      "\n",
      "Cut-off: 10\n",
      "Words included: 15799\n",
      "Words not included: 66933\n",
      "\n",
      "Cut-off: 20\n",
      "Words included: 9177\n",
      "Words not included: 73555\n",
      "\n",
      "Cut-off: 30\n",
      "Words included: 6500\n",
      "Words not included: 76232\n",
      "\n",
      "Cut-off: 40\n",
      "Words included: 5043\n",
      "Words not included: 77689\n",
      "\n",
      "Cut-off: 50\n",
      "Words included: 4050\n",
      "Words not included: 78682\n",
      "\n",
      "Cut-off: 100\n",
      "Words included: 2017\n",
      "Words not included: 80715\n",
      "\n",
      "Cut-off: 200\n",
      "Words included: 918\n",
      "Words not included: 81814\n",
      "\n",
      "Cut-off: 500\n",
      "Words included: 242\n",
      "Words not included: 82490\n",
      "\n"
     ]
    },
    {
     "data": {
      "text/plain": [
       "(0.0, 1000.0)"
      ]
     },
     "execution_count": 248,
     "metadata": {},
     "output_type": "execute_result"
    },
    {
     "data": {
      "image/png": "[encoded data removed]",
      "text/plain": [
       "<Figure size 432x288 with 1 Axes>"
      ]
     },
     "metadata": {
      "needs_background": "light"
     },
     "output_type": "display_data"
    }
   ],
   "source": [
    "counts = np.fromiter(vocab_count.values(), dtype=int)\n",
    "\n",
    "#sns.histplot(counts)\n",
    "for i in [3, 5, 10, 20, 30, 40, 50, 100, 200, 500]:\n",
    "    print(f\"Cut-off: {i}\")\n",
    "    common = counts[counts >= i]\n",
    "    print(f\"Words included: {len(common)}\\nWords not included: {len(counts) - len(common)}\\n\")\n",
    "\n",
    "#sns.histplot(counts[counts >= 10])\n",
    "plt.xlabel(\"Number of times a given word appears in text\", fontsize=13)\n",
    "plt.ylabel(\"Number of words\", fontsize=13)\n",
    "plt.xlim([0, 1000])"
   ]
  },
  {
   "cell_type": "code",
   "execution_count": 249,
   "id": "d71fd2b1",
   "metadata": {},
   "outputs": [
    {
     "name": "stdout",
     "output_type": "stream",
     "text": [
      "Accuracy of Naive Bayes classifier: 69.61%\n"
     ]
    }
   ],
   "source": [
    "from sklearn.feature_extraction.text import CountVectorizer\n",
    "cv = CountVectorizer(ngram_range=(1, 1))\n",
    "\n",
    "word_counts = cv.fit_transform(X_train)\n",
    "\n",
    "from sklearn.naive_bayes import MultinomialNB\n",
    "from sklearn import metrics\n",
    "from sklearn.model_selection import train_test_split\n",
    "\n",
    "Xb_train, Xb_test, yb_train, yb_test = train_test_split(word_counts, \n",
    "                                                   y_train,\n",
    "                                                   test_size=0.25,\n",
    "                                                   random_state=666)\n",
    "\n",
    "\n",
    "mnb = MultinomialNB()\n",
    "mnb.fit(Xb_train, yb_train)\n",
    "\n",
    "predicted = mnb.predict(Xb_test)\n",
    "accuracy_score = metrics.accuracy_score(predicted, yb_test)\n",
    "print(f\"Accuracy of Naive Bayes classifier: {accuracy_score * 100:.2f}%\")"
   ]
  },
  {
   "cell_type": "markdown",
   "id": "25e28c48",
   "metadata": {},
   "source": [
    "## Oversampling"
   ]
  },
  {
   "cell_type": "code",
   "execution_count": 250,
   "id": "86d32112",
   "metadata": {},
   "outputs": [
    {
     "ename": "AttributeError",
     "evalue": "'function' object has no attribute 'fit_resample'",
     "output_type": "error",
     "traceback": [
      "\u001b[0;31m---------------------------------------------------------------------------\u001b[0m",
      "\u001b[0;31mAttributeError\u001b[0m                            Traceback (most recent call last)",
      "Input \u001b[0;32mIn [250]\u001b[0m, in \u001b[0;36m<cell line: 1>\u001b[0;34m()\u001b[0m\n\u001b[0;32m----> 1\u001b[0m \u001b[43moversample\u001b[49m\u001b[38;5;241;43m.\u001b[39;49m\u001b[43mfit_resample\u001b[49m(X_train, y_train)\n",
      "\u001b[0;31mAttributeError\u001b[0m: 'function' object has no attribute 'fit_resample'"
     ]
    }
   ],
   "source": [
    "oversample.fit_resample(X_train, y_train)"
   ]
  },
  {
   "cell_type": "code",
   "execution_count": 253,
   "id": "7ca9fa87",
   "metadata": {},
   "outputs": [
    {
     "name": "stdout",
     "output_type": "stream",
     "text": [
      "[list([371, 454, 16, 22, 317, 290, 64, 15, 7, 48, 83, 98, 411, 375, 275, 196, 183, 10, 466, 205, 64, 15, 63, 1, 64, 15, 266, 444, 167, 63, 1, 8, 31, 420, 5, 43, 35, 205, 16, 35, 320, 4, 489, 116, 125, 64, 15, 227, 4, 16, 152, 410, 86, 6, 16, 94, 477, 11, 383, 69, 392, 401, 485])\n",
      " list([277, 15, 211, 72, 14, 414, 87, 310, 376, 349, 414, 265, 228, 212, 3, 117, 14, 90, 14, 21, 130, 166, 21, 454, 449, 371, 7, 228, 420, 51, 4, 18, 12, 110, 15, 15, 129, 15, 168])\n",
      " list([32, 63, 206, 306, 255, 7, 239, 347, 227, 125, 405, 107, 154, 268, 111, 233, 329, 148, 75, 36, 206, 306, 42, 4, 112, 215, 75, 83, 30, 440, 481, 29, 110, 112, 450, 29, 112, 192, 4, 112, 299, 79, 112, 4, 103, 407, 478, 70, 442, 4, 252, 32, 4, 32, 4, 273, 4, 4, 194, 190, 4, 174, 29, 391, 161, 479, 205, 203, 336, 320, 6, 320, 148, 255, 80, 322, 442, 270, 270, 62, 122, 79, 270, 440, 446, 480, 70, 240, 29, 76, 60, 101, 255, 206, 306, 286, 261, 485])\n",
      " ...\n",
      " list([6, 235, 321, 363, 26, 444, 388, 218, 2, 427, 1, 8, 21, 257, 20, 119, 6, 9, 26, 150, 8, 212, 247, 26, 316, 462, 58, 8, 302, 384, 127])\n",
      " list([16, 300, 248, 65, 42, 65, 113, 226, 4, 16, 105, 67, 64, 15, 7, 51, 447, 272, 98, 64, 15, 170])\n",
      " list([14, 15, 31, 14, 130, 364, 15, 45, 5, 5, 364, 8, 310, 130, 164, 119, 15, 211, 117, 40, 153, 14, 15, 423, 176, 371, 7, 5, 265, 228, 56, 449, 7, 38, 89, 110, 8, 337, 15, 158])]\n",
      "6617 6617\n"
     ]
    },
    {
     "name": "stderr",
     "output_type": "stream",
     "text": [
      "/tmp/ipykernel_73153/304124059.py:6: VisibleDeprecationWarning: Creating an ndarray from ragged nested sequences (which is a list-or-tuple of lists-or-tuples-or ndarrays with different lengths or shapes) is deprecated. If you meant to do this, you must specify 'dtype=object' when creating the ndarray.\n",
      "  encoded_docs = np.array(tokenizer.texts_to_sequences(X_train))\n"
     ]
    },
    {
     "ename": "ValueError",
     "evalue": "setting an array element with a sequence.",
     "output_type": "error",
     "traceback": [
      "\u001b[0;31m---------------------------------------------------------------------------\u001b[0m",
      "\u001b[0;31mTypeError\u001b[0m                                 Traceback (most recent call last)",
      "\u001b[0;31mTypeError\u001b[0m: float() argument must be a string or a real number, not 'list'",
      "\nThe above exception was the direct cause of the following exception:\n",
      "\u001b[0;31mValueError\u001b[0m                                Traceback (most recent call last)",
      "Input \u001b[0;32mIn [253]\u001b[0m, in \u001b[0;36m<cell line: 14>\u001b[0;34m()\u001b[0m\n\u001b[1;32m     10\u001b[0m \u001b[38;5;28mprint\u001b[39m(\u001b[38;5;28mlen\u001b[39m(encoded_docs), \u001b[38;5;28mlen\u001b[39m(y_train))\n\u001b[1;32m     11\u001b[0m oversample \u001b[38;5;241m=\u001b[39m imblearn\u001b[38;5;241m.\u001b[39mover_sampling\u001b[38;5;241m.\u001b[39mSMOTE()\n\u001b[0;32m---> 14\u001b[0m X, y \u001b[38;5;241m=\u001b[39m \u001b[43moversample\u001b[49m\u001b[38;5;241;43m.\u001b[39;49m\u001b[43mfit_resample\u001b[49m\u001b[43m(\u001b[49m\u001b[43mencoded_docs\u001b[49m\u001b[43m,\u001b[49m\u001b[43m \u001b[49m\u001b[43my_train\u001b[49m\u001b[43m)\u001b[49m\n",
      "File \u001b[0;32m~/miniconda3/envs/ukraine/lib/python3.10/site-packages/imblearn/base.py:77\u001b[0m, in \u001b[0;36mSamplerMixin.fit_resample\u001b[0;34m(self, X, y)\u001b[0m\n\u001b[1;32m     75\u001b[0m check_classification_targets(y)\n\u001b[1;32m     76\u001b[0m arrays_transformer \u001b[38;5;241m=\u001b[39m ArraysTransformer(X, y)\n\u001b[0;32m---> 77\u001b[0m X, y, binarize_y \u001b[38;5;241m=\u001b[39m \u001b[38;5;28;43mself\u001b[39;49m\u001b[38;5;241;43m.\u001b[39;49m\u001b[43m_check_X_y\u001b[49m\u001b[43m(\u001b[49m\u001b[43mX\u001b[49m\u001b[43m,\u001b[49m\u001b[43m \u001b[49m\u001b[43my\u001b[49m\u001b[43m)\u001b[49m\n\u001b[1;32m     79\u001b[0m \u001b[38;5;28mself\u001b[39m\u001b[38;5;241m.\u001b[39msampling_strategy_ \u001b[38;5;241m=\u001b[39m check_sampling_strategy(\n\u001b[1;32m     80\u001b[0m     \u001b[38;5;28mself\u001b[39m\u001b[38;5;241m.\u001b[39msampling_strategy, y, \u001b[38;5;28mself\u001b[39m\u001b[38;5;241m.\u001b[39m_sampling_type\n\u001b[1;32m     81\u001b[0m )\n\u001b[1;32m     83\u001b[0m output \u001b[38;5;241m=\u001b[39m \u001b[38;5;28mself\u001b[39m\u001b[38;5;241m.\u001b[39m_fit_resample(X, y)\n",
      "File \u001b[0;32m~/miniconda3/envs/ukraine/lib/python3.10/site-packages/imblearn/base.py:132\u001b[0m, in \u001b[0;36mBaseSampler._check_X_y\u001b[0;34m(self, X, y, accept_sparse)\u001b[0m\n\u001b[1;32m    130\u001b[0m     accept_sparse \u001b[38;5;241m=\u001b[39m [\u001b[38;5;124m\"\u001b[39m\u001b[38;5;124mcsr\u001b[39m\u001b[38;5;124m\"\u001b[39m, \u001b[38;5;124m\"\u001b[39m\u001b[38;5;124mcsc\u001b[39m\u001b[38;5;124m\"\u001b[39m]\n\u001b[1;32m    131\u001b[0m y, binarize_y \u001b[38;5;241m=\u001b[39m check_target_type(y, indicate_one_vs_all\u001b[38;5;241m=\u001b[39m\u001b[38;5;28;01mTrue\u001b[39;00m)\n\u001b[0;32m--> 132\u001b[0m X, y \u001b[38;5;241m=\u001b[39m \u001b[38;5;28;43mself\u001b[39;49m\u001b[38;5;241;43m.\u001b[39;49m\u001b[43m_validate_data\u001b[49m\u001b[43m(\u001b[49m\u001b[43mX\u001b[49m\u001b[43m,\u001b[49m\u001b[43m \u001b[49m\u001b[43my\u001b[49m\u001b[43m,\u001b[49m\u001b[43m \u001b[49m\u001b[43mreset\u001b[49m\u001b[38;5;241;43m=\u001b[39;49m\u001b[38;5;28;43;01mTrue\u001b[39;49;00m\u001b[43m,\u001b[49m\u001b[43m \u001b[49m\u001b[43maccept_sparse\u001b[49m\u001b[38;5;241;43m=\u001b[39;49m\u001b[43maccept_sparse\u001b[49m\u001b[43m)\u001b[49m\n\u001b[1;32m    133\u001b[0m \u001b[38;5;28;01mreturn\u001b[39;00m X, y, binarize_y\n",
      "File \u001b[0;32m~/miniconda3/envs/ukraine/lib/python3.10/site-packages/sklearn/base.py:581\u001b[0m, in \u001b[0;36mBaseEstimator._validate_data\u001b[0;34m(self, X, y, reset, validate_separately, **check_params)\u001b[0m\n\u001b[1;32m    579\u001b[0m         y \u001b[38;5;241m=\u001b[39m check_array(y, \u001b[38;5;241m*\u001b[39m\u001b[38;5;241m*\u001b[39mcheck_y_params)\n\u001b[1;32m    580\u001b[0m     \u001b[38;5;28;01melse\u001b[39;00m:\n\u001b[0;32m--> 581\u001b[0m         X, y \u001b[38;5;241m=\u001b[39m \u001b[43mcheck_X_y\u001b[49m\u001b[43m(\u001b[49m\u001b[43mX\u001b[49m\u001b[43m,\u001b[49m\u001b[43m \u001b[49m\u001b[43my\u001b[49m\u001b[43m,\u001b[49m\u001b[43m \u001b[49m\u001b[38;5;241;43m*\u001b[39;49m\u001b[38;5;241;43m*\u001b[39;49m\u001b[43mcheck_params\u001b[49m\u001b[43m)\u001b[49m\n\u001b[1;32m    582\u001b[0m     out \u001b[38;5;241m=\u001b[39m X, y\n\u001b[1;32m    584\u001b[0m \u001b[38;5;28;01mif\u001b[39;00m \u001b[38;5;129;01mnot\u001b[39;00m no_val_X \u001b[38;5;129;01mand\u001b[39;00m check_params\u001b[38;5;241m.\u001b[39mget(\u001b[38;5;124m\"\u001b[39m\u001b[38;5;124mensure_2d\u001b[39m\u001b[38;5;124m\"\u001b[39m, \u001b[38;5;28;01mTrue\u001b[39;00m):\n",
      "File \u001b[0;32m~/miniconda3/envs/ukraine/lib/python3.10/site-packages/sklearn/utils/validation.py:964\u001b[0m, in \u001b[0;36mcheck_X_y\u001b[0;34m(X, y, accept_sparse, accept_large_sparse, dtype, order, copy, force_all_finite, ensure_2d, allow_nd, multi_output, ensure_min_samples, ensure_min_features, y_numeric, estimator)\u001b[0m\n\u001b[1;32m    961\u001b[0m \u001b[38;5;28;01mif\u001b[39;00m y \u001b[38;5;129;01mis\u001b[39;00m \u001b[38;5;28;01mNone\u001b[39;00m:\n\u001b[1;32m    962\u001b[0m     \u001b[38;5;28;01mraise\u001b[39;00m \u001b[38;5;167;01mValueError\u001b[39;00m(\u001b[38;5;124m\"\u001b[39m\u001b[38;5;124my cannot be None\u001b[39m\u001b[38;5;124m\"\u001b[39m)\n\u001b[0;32m--> 964\u001b[0m X \u001b[38;5;241m=\u001b[39m \u001b[43mcheck_array\u001b[49m\u001b[43m(\u001b[49m\n\u001b[1;32m    965\u001b[0m \u001b[43m    \u001b[49m\u001b[43mX\u001b[49m\u001b[43m,\u001b[49m\n\u001b[1;32m    966\u001b[0m \u001b[43m    \u001b[49m\u001b[43maccept_sparse\u001b[49m\u001b[38;5;241;43m=\u001b[39;49m\u001b[43maccept_sparse\u001b[49m\u001b[43m,\u001b[49m\n\u001b[1;32m    967\u001b[0m \u001b[43m    \u001b[49m\u001b[43maccept_large_sparse\u001b[49m\u001b[38;5;241;43m=\u001b[39;49m\u001b[43maccept_large_sparse\u001b[49m\u001b[43m,\u001b[49m\n\u001b[1;32m    968\u001b[0m \u001b[43m    \u001b[49m\u001b[43mdtype\u001b[49m\u001b[38;5;241;43m=\u001b[39;49m\u001b[43mdtype\u001b[49m\u001b[43m,\u001b[49m\n\u001b[1;32m    969\u001b[0m \u001b[43m    \u001b[49m\u001b[43morder\u001b[49m\u001b[38;5;241;43m=\u001b[39;49m\u001b[43morder\u001b[49m\u001b[43m,\u001b[49m\n\u001b[1;32m    970\u001b[0m \u001b[43m    \u001b[49m\u001b[43mcopy\u001b[49m\u001b[38;5;241;43m=\u001b[39;49m\u001b[43mcopy\u001b[49m\u001b[43m,\u001b[49m\n\u001b[1;32m    971\u001b[0m \u001b[43m    \u001b[49m\u001b[43mforce_all_finite\u001b[49m\u001b[38;5;241;43m=\u001b[39;49m\u001b[43mforce_all_finite\u001b[49m\u001b[43m,\u001b[49m\n\u001b[1;32m    972\u001b[0m \u001b[43m    \u001b[49m\u001b[43mensure_2d\u001b[49m\u001b[38;5;241;43m=\u001b[39;49m\u001b[43mensure_2d\u001b[49m\u001b[43m,\u001b[49m\n\u001b[1;32m    973\u001b[0m \u001b[43m    \u001b[49m\u001b[43mallow_nd\u001b[49m\u001b[38;5;241;43m=\u001b[39;49m\u001b[43mallow_nd\u001b[49m\u001b[43m,\u001b[49m\n\u001b[1;32m    974\u001b[0m \u001b[43m    \u001b[49m\u001b[43mensure_min_samples\u001b[49m\u001b[38;5;241;43m=\u001b[39;49m\u001b[43mensure_min_samples\u001b[49m\u001b[43m,\u001b[49m\n\u001b[1;32m    975\u001b[0m \u001b[43m    \u001b[49m\u001b[43mensure_min_features\u001b[49m\u001b[38;5;241;43m=\u001b[39;49m\u001b[43mensure_min_features\u001b[49m\u001b[43m,\u001b[49m\n\u001b[1;32m    976\u001b[0m \u001b[43m    \u001b[49m\u001b[43mestimator\u001b[49m\u001b[38;5;241;43m=\u001b[39;49m\u001b[43mestimator\u001b[49m\u001b[43m,\u001b[49m\n\u001b[1;32m    977\u001b[0m \u001b[43m\u001b[49m\u001b[43m)\u001b[49m\n\u001b[1;32m    979\u001b[0m y \u001b[38;5;241m=\u001b[39m _check_y(y, multi_output\u001b[38;5;241m=\u001b[39mmulti_output, y_numeric\u001b[38;5;241m=\u001b[39my_numeric)\n\u001b[1;32m    981\u001b[0m check_consistent_length(X, y)\n",
      "File \u001b[0;32m~/miniconda3/envs/ukraine/lib/python3.10/site-packages/sklearn/utils/validation.py:746\u001b[0m, in \u001b[0;36mcheck_array\u001b[0;34m(array, accept_sparse, accept_large_sparse, dtype, order, copy, force_all_finite, ensure_2d, allow_nd, ensure_min_samples, ensure_min_features, estimator)\u001b[0m\n\u001b[1;32m    744\u001b[0m         array \u001b[38;5;241m=\u001b[39m array\u001b[38;5;241m.\u001b[39mastype(dtype, casting\u001b[38;5;241m=\u001b[39m\u001b[38;5;124m\"\u001b[39m\u001b[38;5;124munsafe\u001b[39m\u001b[38;5;124m\"\u001b[39m, copy\u001b[38;5;241m=\u001b[39m\u001b[38;5;28;01mFalse\u001b[39;00m)\n\u001b[1;32m    745\u001b[0m     \u001b[38;5;28;01melse\u001b[39;00m:\n\u001b[0;32m--> 746\u001b[0m         array \u001b[38;5;241m=\u001b[39m \u001b[43mnp\u001b[49m\u001b[38;5;241;43m.\u001b[39;49m\u001b[43masarray\u001b[49m\u001b[43m(\u001b[49m\u001b[43marray\u001b[49m\u001b[43m,\u001b[49m\u001b[43m \u001b[49m\u001b[43morder\u001b[49m\u001b[38;5;241;43m=\u001b[39;49m\u001b[43morder\u001b[49m\u001b[43m,\u001b[49m\u001b[43m \u001b[49m\u001b[43mdtype\u001b[49m\u001b[38;5;241;43m=\u001b[39;49m\u001b[43mdtype\u001b[49m\u001b[43m)\u001b[49m\n\u001b[1;32m    747\u001b[0m \u001b[38;5;28;01mexcept\u001b[39;00m ComplexWarning \u001b[38;5;28;01mas\u001b[39;00m complex_warning:\n\u001b[1;32m    748\u001b[0m     \u001b[38;5;28;01mraise\u001b[39;00m \u001b[38;5;167;01mValueError\u001b[39;00m(\n\u001b[1;32m    749\u001b[0m         \u001b[38;5;124m\"\u001b[39m\u001b[38;5;124mComplex data not supported\u001b[39m\u001b[38;5;130;01m\\n\u001b[39;00m\u001b[38;5;132;01m{}\u001b[39;00m\u001b[38;5;130;01m\\n\u001b[39;00m\u001b[38;5;124m\"\u001b[39m\u001b[38;5;241m.\u001b[39mformat(array)\n\u001b[1;32m    750\u001b[0m     ) \u001b[38;5;28;01mfrom\u001b[39;00m \u001b[38;5;21;01mcomplex_warning\u001b[39;00m\n",
      "\u001b[0;31mValueError\u001b[0m: setting an array element with a sequence."
     ]
    }
   ],
   "source": [
    "tokenizer = Tokenizer(num_words=max_words, split=' ')\n",
    "#preprocessing X_train\n",
    "\n",
    "tokenizer.fit_on_texts(X_train)\n",
    "\n",
    "encoded_docs = np.array(tokenizer.texts_to_sequences(X_train))\n",
    "\n",
    "\n",
    "print(encoded_docs)\n",
    "print(len(encoded_docs), len(y_train))\n",
    "oversample = imblearn.over_sampling.SMOTE()\n",
    "\n",
    "\n",
    "X, y = oversample.fit_resample(encoded_docs, y_train)\n",
    "\n"
   ]
  },
  {
   "cell_type": "code",
   "execution_count": 256,
   "id": "7c7f2201",
   "metadata": {},
   "outputs": [
    {
     "name": "stdout",
     "output_type": "stream",
     "text": [
      "0       0\n",
      "1       0\n",
      "4       0\n",
      "5       0\n",
      "6       0\n",
      "       ..\n",
      "8255    1\n",
      "8257    1\n",
      "8258    2\n",
      "8260    1\n",
      "8261    0\n",
      "Name: sentiment, Length: 6617, dtype: int64\n"
     ]
    },
    {
     "data": {
      "text/plain": [
       "array([[1., 0., 0.],\n",
       "       [1., 0., 0.],\n",
       "       [1., 0., 0.],\n",
       "       ...,\n",
       "       [0., 0., 1.],\n",
       "       [0., 1., 0.],\n",
       "       [1., 0., 0.]], dtype=float32)"
      ]
     },
     "execution_count": 256,
     "metadata": {},
     "output_type": "execute_result"
    }
   ],
   "source": [
    "from tensorflow.keras.utils import to_categorical\n",
    "from sklearn.preprocessing import LabelEncoder\n",
    "encoder1 = LabelEncoder()\n",
    "# y_train = labelencoder_Y_1.fit_transform(y_train)\n",
    "\n",
    "# print(y_train)\n",
    "\n"
   ]
  },
  {
   "cell_type": "code",
   "execution_count": 255,
   "id": "f9c3b7a8",
   "metadata": {},
   "outputs": [
    {
     "data": {
      "text/plain": [
       "0       0\n",
       "1       0\n",
       "4       0\n",
       "5       0\n",
       "6       0\n",
       "       ..\n",
       "8255    1\n",
       "8257    1\n",
       "8258    2\n",
       "8260    1\n",
       "8261    0\n",
       "Name: sentiment, Length: 6617, dtype: int64"
      ]
     },
     "execution_count": 255,
     "metadata": {},
     "output_type": "execute_result"
    }
   ],
   "source": [
    "y_train"
   ]
  },
  {
   "cell_type": "code",
   "execution_count": null,
   "id": "b13ed921",
   "metadata": {},
   "outputs": [],
   "source": []
  },
  {
   "cell_type": "markdown",
   "id": "1549f968",
   "metadata": {},
   "source": [
    "# Model Saving Function"
   ]
  },
  {
   "cell_type": "code",
   "execution_count": 317,
   "id": "949126ad",
   "metadata": {},
   "outputs": [],
   "source": [
    "def preprocess_data(X_train, y_train, vocab_size, max_words):\n",
    "    tokenizer = Tokenizer(num_words=max_words, split=' ')\n",
    "    #preprocessing X_train\n",
    "    docs = X_train.to_numpy()\n",
    "    tokenizer.fit_on_texts(docs)\n",
    "    encoded_docs = tokenizer.texts_to_sequences(docs)\n",
    "    padded_docs = pad_sequences(encoded_docs, maxlen=max_words, padding='post')\n",
    "#     padded_docs, y_train = oversample(padded_docs, y_train)\n",
    "\n",
    "    # preprocessing y_train\n",
    "    encoder = LabelEncoder()\n",
    "    labels = to_categorical(y_train)\n",
    "    \n",
    "    \n",
    "    \n",
    "    return padded_docs, labels\n",
    "\n",
    "def oversample(X_train, y_train):\n",
    "    oversample = imblearn.over_sampling.SMOTE()\n",
    "    X_train, y_train = oversample.fit_resample(X_train, y_train)\n",
    "    return X_train, y_train\n",
    "\n",
    "def fit_model(model, X_train, y_train, batch_size, num_epochs, val):\n",
    "    model.fit(X_train,\n",
    "              y_train,\n",
    "              batch_size,\n",
    "              epochs=num_epochs,\n",
    "              validation_split=val)\n",
    "    \n",
    "def create_json(model, training_time):\n",
    "    \n",
    "    today = date.today()\n",
    "    now = datetime.now().time()\n",
    "    \n",
    "    model_json = {\n",
    "        \"Date\": today.strftime(\"%d/%m/%Y\"),\n",
    "        \"Time\": now.strftime(\"%H:%M:%S\"),\n",
    "        \"Name\": model.name,\n",
    "        \"Layers\": model.layers,\n",
    "        \"History\": model.history.history,\n",
    "        \"Layers\" : [{\"Name\": layer.name,\n",
    "                     \"Input\": str(layer.input),\n",
    "                     \"Output\": str(layer.output)} for layer in model.layers],\n",
    "        \"Vocab size\": vocab_size,\n",
    "        \"Embedding size\": embedding_size,\n",
    "        \"Max words\": max_words,\n",
    "        \"RNN units\": rnn_units,\n",
    "        \"Optimizer\": optimizer,\n",
    "        \"Epochs\": num_epochs,\n",
    "        \"Validation split:\": val,\n",
    "        \"Training time\": training_time\n",
    "    }\n",
    "    return model_json\n",
    "\n",
    "def plot_model(model):\n",
    "    \n",
    "    num_epochs = len(model.history.history['accuracy'])\n",
    "    \n",
    "    fig, (ax1, ax2) = plt.subplots(1, 2, figsize=(8, 4),\n",
    "                                  constrained_layout=True)    \n",
    "    ax1.plot(model.history.history['accuracy'])\n",
    "    ax1.plot(model.history.history['val_accuracy'])\n",
    "    ax1.set_title(\"Accuracy\", fontsize=13)\n",
    "    ax1.set_ylabel('Accuracy', fontsize=13)\n",
    "    ax1.set_xlabel('Number of epochs', fontsize=13)\n",
    "    ax1.set_xticks(range(0, num_epochs), range(1, num_epochs + 1))\n",
    "    ax1.legend(['Train', 'Validation'], loc='upper left')\n",
    "    \n",
    "    ax2.plot(model.history.history['loss'])\n",
    "    ax2.plot(model.history.history['val_loss'])\n",
    "    ax2.set_title(\"Loss\", fontsize=13)\n",
    "    ax2.set_ylabel('Loss', fontsize=13)\n",
    "    ax2.set_xlabel('Number of epochs', fontsize=13)\n",
    "    ax2.set_xticks(range(0, num_epochs), range(1, num_epochs + 1))\n",
    "    ax2.legend(['Train', 'Validation'], loc='upper left')\n",
    "\n",
    "    return fig\n",
    "    \n",
    "def train_and_save(name, X_train, y_train, model, batch_size, num_epochs, val):\n",
    "    # preprocess data\n",
    "    X_train, y_train = preprocess_data(X_train, y_train, vocab_size,\n",
    "                                    max_words)\n",
    "\n",
    "    start = time()\n",
    "    fit_model(model, X_train, y_train, batch_size, num_epochs, val)\n",
    "    training_time = time()-start\n",
    "    \n",
    "    model_json = create_json(model, training_time)\n",
    "\n",
    "    plots = plot_model(model)\n",
    "\n",
    "    plots.savefig(plots_dir / model_json['Name'])\n",
    "\n",
    "    with open(models_dir / (model_json[\"Name\"] + '.json'), 'w') as json_file:\n",
    "        json.dump(model_json, json_file)"
   ]
  },
  {
   "cell_type": "code",
   "execution_count": 318,
   "id": "cfee7786",
   "metadata": {},
   "outputs": [
    {
     "data": {
      "text/html": [
       "<div>\n",
       "<style scoped>\n",
       "    .dataframe tbody tr th:only-of-type {\n",
       "        vertical-align: middle;\n",
       "    }\n",
       "\n",
       "    .dataframe tbody tr th {\n",
       "        vertical-align: top;\n",
       "    }\n",
       "\n",
       "    .dataframe thead th {\n",
       "        text-align: right;\n",
       "    }\n",
       "</style>\n",
       "<table border=\"1\" class=\"dataframe\">\n",
       "  <thead>\n",
       "    <tr style=\"text-align: right;\">\n",
       "      <th></th>\n",
       "      <th>id</th>\n",
       "      <th>label</th>\n",
       "      <th>tweet</th>\n",
       "    </tr>\n",
       "  </thead>\n",
       "  <tbody>\n",
       "    <tr>\n",
       "      <th>0</th>\n",
       "      <td>1</td>\n",
       "      <td>0</td>\n",
       "      <td>@user when a father is dysfunctional and is s...</td>\n",
       "    </tr>\n",
       "    <tr>\n",
       "      <th>1</th>\n",
       "      <td>2</td>\n",
       "      <td>0</td>\n",
       "      <td>@user @user thanks for #lyft credit i can't us...</td>\n",
       "    </tr>\n",
       "    <tr>\n",
       "      <th>2</th>\n",
       "      <td>3</td>\n",
       "      <td>0</td>\n",
       "      <td>bihday your majesty</td>\n",
       "    </tr>\n",
       "    <tr>\n",
       "      <th>3</th>\n",
       "      <td>4</td>\n",
       "      <td>0</td>\n",
       "      <td>#model   i love u take with u all the time in ...</td>\n",
       "    </tr>\n",
       "    <tr>\n",
       "      <th>4</th>\n",
       "      <td>5</td>\n",
       "      <td>0</td>\n",
       "      <td>factsguide: society now    #motivation</td>\n",
       "    </tr>\n",
       "    <tr>\n",
       "      <th>...</th>\n",
       "      <td>...</td>\n",
       "      <td>...</td>\n",
       "      <td>...</td>\n",
       "    </tr>\n",
       "    <tr>\n",
       "      <th>31957</th>\n",
       "      <td>31958</td>\n",
       "      <td>0</td>\n",
       "      <td>ate @user isz that youuu?ðððððð...</td>\n",
       "    </tr>\n",
       "    <tr>\n",
       "      <th>31958</th>\n",
       "      <td>31959</td>\n",
       "      <td>0</td>\n",
       "      <td>to see nina turner on the airwaves trying to...</td>\n",
       "    </tr>\n",
       "    <tr>\n",
       "      <th>31959</th>\n",
       "      <td>31960</td>\n",
       "      <td>0</td>\n",
       "      <td>listening to sad songs on a monday morning otw...</td>\n",
       "    </tr>\n",
       "    <tr>\n",
       "      <th>31960</th>\n",
       "      <td>31961</td>\n",
       "      <td>1</td>\n",
       "      <td>@user #sikh #temple vandalised in in #calgary,...</td>\n",
       "    </tr>\n",
       "    <tr>\n",
       "      <th>31961</th>\n",
       "      <td>31962</td>\n",
       "      <td>0</td>\n",
       "      <td>thank you @user for you follow</td>\n",
       "    </tr>\n",
       "  </tbody>\n",
       "</table>\n",
       "<p>31962 rows × 3 columns</p>\n",
       "</div>"
      ],
      "text/plain": [
       "          id  label                                              tweet\n",
       "0          1      0   @user when a father is dysfunctional and is s...\n",
       "1          2      0  @user @user thanks for #lyft credit i can't us...\n",
       "2          3      0                                bihday your majesty\n",
       "3          4      0  #model   i love u take with u all the time in ...\n",
       "4          5      0             factsguide: society now    #motivation\n",
       "...      ...    ...                                                ...\n",
       "31957  31958      0  ate @user isz that youuu?ðððððð...\n",
       "31958  31959      0    to see nina turner on the airwaves trying to...\n",
       "31959  31960      0  listening to sad songs on a monday morning otw...\n",
       "31960  31961      1  @user #sikh #temple vandalised in in #calgary,...\n",
       "31961  31962      0                   thank you @user for you follow  \n",
       "\n",
       "[31962 rows x 3 columns]"
      ]
     },
     "execution_count": 318,
     "metadata": {},
     "output_type": "execute_result"
    }
   ],
   "source": [
    "twitter_train = pd.read_csv(data_dir / 'twitter_train.csv')\n",
    "X_tweets = twitter_train['tweet']\n",
    "y_tweets = twitter_train['label']\n",
    "twitter_train"
   ]
  },
  {
   "cell_type": "code",
   "execution_count": 319,
   "id": "ba4cb60b",
   "metadata": {},
   "outputs": [
    {
     "name": "stdout",
     "output_type": "stream",
     "text": [
      "Number of distinct words: 67223\n"
     ]
    }
   ],
   "source": [
    "from collections import Counter\n",
    "vocab_count = Counter()\n",
    "\n",
    "X_tweets.str.split().apply(vocab_count.update)\n",
    "\n",
    "vocab_count = dict(vocab_count)\n",
    "\n",
    "print(f\"Number of distinct words: {len(vocab_count)}\")"
   ]
  },
  {
   "cell_type": "code",
   "execution_count": 322,
   "id": "bc006979",
   "metadata": {},
   "outputs": [],
   "source": [
    "name = \"lstm_base_model\"\n",
    "vocab_size = 60000\n",
    "embedding_size = 50\n",
    "max_words = 100\n",
    "rnn_units = 128\n",
    "optimizer = 'nadam, learning rate 0.0001'\n",
    "\n",
    "batch_size = 128\n",
    "num_epochs = 10\n",
    "val = 0.2\n",
    "\n",
    "\n",
    "model = Sequential(name=name)\n",
    "model.add(layers.Embedding(input_dim=vocab_size,\n",
    "                           output_dim=embedding_size,\n",
    "                           input_length=max_words, name=\"Embedding\"))\n",
    "#model.add(layers.Flatten())\n",
    "model.add(layers.LSTM(rnn_units, name=\"LSTM1\"))\n",
    "model.add(layers.Dense(2, activation='softmax', name=\"Dense\"))\n",
    "\n",
    "model.compile(tf.keras.optimizers.SGD(learning_rate=0.0001),\n",
    "              loss='categorical_crossentropy',\n",
    "              metrics=['categorical_accuracy'])"
   ]
  },
  {
   "cell_type": "code",
   "execution_count": null,
   "id": "52efae1e",
   "metadata": {},
   "outputs": [],
   "source": [
    "train_and_save(name, X_tweets, y_tweets, model, batch_size, num_epochs, val)\n",
    "\n",
    "# train_and_save(name, test_x, test_y, 300,\n",
    "#                100, 300, 256, 'adam', 8, 30, 0.2)"
   ]
  },
  {
   "cell_type": "code",
   "execution_count": null,
   "id": "cc4d3f84",
   "metadata": {},
   "outputs": [],
   "source": [
    "def create_json(model):\n",
    "    \n",
    "    today = date.today()\n",
    "    now = datetime.now().time()\n",
    "    \n",
    "    model_json = {\n",
    "        \"Date\": today.strftime(\"%d/%m/%Y\"),\n",
    "        \"Time\": now.strftime(\"%H:%M:%S\"),\n",
    "        \"Name\": model.name,\n",
    "        \"Layers\": model.layers,\n",
    "        \"History\": model.history.history,\n",
    "        \"Layers\" : [{\"Name\": layer.name,\n",
    "                     \"Input\": str(layer.input),\n",
    "                     \"Output\": str(layer.output)} for layer in model.layers],\n",
    "        \"Vocab size\": vocab_size,\n",
    "        \"Embedding size\": embedding_size,\n",
    "        \"Max words\": max_words,\n",
    "        \"RNN units\": rnn_units,\n",
    "        \"Optimizer\": optimizer,\n",
    "        \"Epochs\": num_epochs,\n",
    "        \"Validation split:\": val\n",
    "    }\n",
    "    return model_json\n",
    "\n",
    "model_json = create_json(test_model)"
   ]
  },
  {
   "cell_type": "code",
   "execution_count": null,
   "id": "b3f50ab0",
   "metadata": {},
   "outputs": [],
   "source": []
  },
  {
   "cell_type": "code",
   "execution_count": null,
   "id": "62c7f448",
   "metadata": {},
   "outputs": [],
   "source": [
    "import json\n",
    "\n",
    "with open(models_dir / (model_json[\"Name\"] + '.json'), 'w') as json_file:\n",
    "    json.dump(model_json, json_file)"
   ]
  },
  {
   "cell_type": "code",
   "execution_count": null,
   "id": "4daaf2cf",
   "metadata": {
    "scrolled": true
   },
   "outputs": [],
   "source": [
    "import pprint\n",
    "\n",
    "pprint.pprint(model_json)"
   ]
  },
  {
   "cell_type": "markdown",
   "id": "165f5e79",
   "metadata": {},
   "source": [
    "### Training a base model"
   ]
  },
  {
   "cell_type": "code",
   "execution_count": null,
   "id": "451dd8be",
   "metadata": {},
   "outputs": [],
   "source": [
    "# number of words to consider in the vocabulary\n",
    "vocab_size = 1000\n",
    "\n",
    "# preprocessing X_train\n",
    "docs = X_train.to_numpy()\n",
    "encoded_docs = [one_hot(d, vocab_size) for d in docs]\n",
    "padded_docs = pad_sequences(encoded_docs, maxlen=max_words, padding='post')\n",
    "\n",
    "# preprocessing y_train\n",
    "encoder = LabelEncoder()\n",
    "labels = encoder.fit_transform(y_train)\n",
    "\n",
    "print(f\"X_train shape: {padded_docs.shape}\")\n",
    "print(f\"y_train shape: {labels.shape}\")"
   ]
  },
  {
   "cell_type": "code",
   "execution_count": null,
   "id": "1ead4b47",
   "metadata": {},
   "outputs": [],
   "source": [
    "opt = keras.optimizers.SGD(learning_rate=0.0001)\n",
    "\n",
    "rnn_out = 8\n",
    "\n",
    "model = Sequential()\n",
    "model.add(layers.Embedding(vocab_size, 8, input_length=max_words))\n",
    "model.add(layers.Bidirectional(LSTM(rnn_out)))\n",
    "model.add(layers.LSTM(rnn_out))\n",
    "model.add(layers.Dense(1, activation='sigmoid'))\n",
    "\n",
    "model.compile(optimizer='adam',\n",
    "              loss='binary_crossentropy',\n",
    "              metrics=['accuracy'])\n",
    "\n",
    "print(model.summary())"
   ]
  },
  {
   "cell_type": "code",
   "execution_count": null,
   "id": "44313884",
   "metadata": {},
   "outputs": [],
   "source": [
    "history = model.fit(padded_docs, labels, epochs=30, verbose=1, validation_split=0.2)"
   ]
  },
  {
   "cell_type": "code",
   "execution_count": null,
   "id": "da1487e3",
   "metadata": {},
   "outputs": [],
   "source": [
    "plt.plot(history.history['accuracy'])\n",
    "plt.plot(history.history['val_accuracy'])\n",
    "plt.title('model accuracy')\n",
    "plt.ylabel('accuracy')\n",
    "plt.xlabel+('epoch')\n",
    "plt.legend(['train', 'val'], loc='upper left')\n",
    "plt.show()"
   ]
  },
  {
   "cell_type": "markdown",
   "id": "87eb94df",
   "metadata": {},
   "source": [
    "### Training with pretrained embeddings"
   ]
  },
  {
   "cell_type": "code",
   "execution_count": null,
   "id": "1cb3abbe",
   "metadata": {},
   "outputs": [],
   "source": [
    "path_to_model_file = \"model/model.txt\"\n",
    "\n",
    "embeddings_index = {}\n",
    "with open(path_to_model_file) as f:\n",
    "    for line in f:\n",
    "        word, coefs = line.split(maxsplit=1)\n",
    "        coefs = np.fromstring(coefs, \"f\", sep=\" \")\n",
    "        embeddings_index[word.split('_')[0]] = coefs\n",
    "\n",
    "print(\"Found %s word vectors.\" % len(embeddings_index))"
   ]
  },
  {
   "cell_type": "code",
   "execution_count": null,
   "id": "2fd523fa",
   "metadata": {},
   "outputs": [],
   "source": [
    "t = Tokenizer()\n",
    "\n",
    "t.fit_on_texts(X_train)\n",
    "\n",
    "vocab_size = len(t.word_index) + 1\n",
    "\n",
    "encoded_docs = t.texts_to_sequences(X_train)\n",
    "\n",
    "max_length = 200\n",
    "padded_docs = pad_sequences(encoded_docs, maxlen=max_length, padding='post')"
   ]
  },
  {
   "cell_type": "code",
   "execution_count": null,
   "id": "33d64016",
   "metadata": {},
   "outputs": [],
   "source": [
    "# create a weight matrix for words in training docs\n",
    "embedding_matrix = np.zeros((vocab_size, 300))\n",
    "for word, i in t.word_index.items():\n",
    "    embedding_vector = embeddings_index.get(word)\n",
    "    if embedding_vector is not None:\n",
    "        embedding_matrix[i] = embedding_vector\n",
    "\n",
    "embedding_matrix.shape"
   ]
  },
  {
   "cell_type": "code",
   "execution_count": null,
   "id": "82f92744",
   "metadata": {},
   "outputs": [],
   "source": [
    "padded_docs"
   ]
  },
  {
   "cell_type": "code",
   "execution_count": null,
   "id": "9f3fbe64",
   "metadata": {},
   "outputs": [],
   "source": [
    "from tensorflow import keras\n",
    "opt = keras.optimizers.SGD(learning_rate=0.0001)"
   ]
  },
  {
   "cell_type": "code",
   "execution_count": null,
   "id": "6e67e6cb",
   "metadata": {},
   "outputs": [],
   "source": [
    "lstm_out = 16\n",
    "\n",
    "model = Sequential()\n",
    "model.add(layers.Embedding(vocab_size, 300, weights=[embedding_matrix], input_length=max_length, trainable=False))\n",
    "model.add(layers.Bidirectional(layers.LSTM(lstm_out, dropout=0.2, recurrent_dropout=0.2)))\n",
    "model.add(layers.Dense(3, activation='softmax'))\n",
    "\n",
    "model.compile(optimizer=opt, loss='sparse_categorical_crossentropy', metrics=['accuracy'])\n",
    "\n",
    "print(model.summary())"
   ]
  },
  {
   "cell_type": "code",
   "execution_count": null,
   "id": "6674a0ed",
   "metadata": {},
   "outputs": [],
   "source": [
    "\n",
    "encoder = LabelEncoder()\n",
    "labels = encoder.fit_transform(train.sentiment)"
   ]
  },
  {
   "cell_type": "code",
   "execution_count": null,
   "id": "38c2620e",
   "metadata": {},
   "outputs": [],
   "source": [
    "history = model.fit(padded_docs, labels, epochs=20, validation_split=0.2, verbose=1)"
   ]
  },
  {
   "cell_type": "code",
   "execution_count": null,
   "id": "1907d40e",
   "metadata": {},
   "outputs": [],
   "source": []
  },
  {
   "cell_type": "code",
   "execution_count": null,
   "id": "5c44caa9",
   "metadata": {},
   "outputs": [],
   "source": [
    "test_model.history.history"
   ]
  },
  {
   "cell_type": "code",
   "execution_count": null,
   "id": "9868baca",
   "metadata": {},
   "outputs": [],
   "source": [
    "def plot_model(model):\n",
    "    \n",
    "    num_epochs = len(model.history.history['accuracy'])\n",
    "    \n",
    "    fig, (ax1, ax2) = plt.subplots(1, 2, figsize=(8, 4))\n",
    "    \n",
    "    ax1.plot(model.history.history['accuracy'])\n",
    "    ax1.plot(model.history.history['val_accuracy'])\n",
    "    ax1.set_title(\"Accuracy\", fontsize=13)\n",
    "    ax1.set_ylabel('Accuracy', fontsize=13)\n",
    "    ax1.set_xlabel('Number of epochs', fontsize=13)\n",
    "    ax1.set_xticks(range(0, num_epochs), range(1, num_epochs + 1))\n",
    "    ax1.legend(['Train', 'Validation'], loc='upper left')\n",
    "    \n",
    "    ax2.plot(model.history.history['loss'])\n",
    "    ax2.plot(model.history.history['val_loss'])\n",
    "    ax2.set_title(\"Loss\", fontsize=13)\n",
    "    ax2.set_ylabel('Loss', fontsize=13)\n",
    "    ax2.set_xlabel('Number of epochs', fontsize=13)\n",
    "    ax2.set_xticks(range(0, num_epochs), range(1, num_epochs + 1))\n",
    "    ax2.legend(['Train', 'Validation'], loc='upper left')\n",
    "\n",
    "    return fig\n",
    "\n",
    "a = plot_model(test_model)\n",
    "\n",
    "a.savefig(plots_dir / test_model['Name'])"
   ]
  },
  {
   "cell_type": "code",
   "execution_count": null,
   "id": "aa7cc70a",
   "metadata": {},
   "outputs": [],
   "source": []
  }
 ],
 "metadata": {
  "kernelspec": {
   "display_name": "Python 3 (ipykernel)",
   "language": "python",
   "name": "python3"
  },
  "language_info": {
   "codemirror_mode": {
    "name": "ipython",
    "version": 3
   },
   "file_extension": ".py",
   "mimetype": "text/x-python",
   "name": "python",
   "nbconvert_exporter": "python",
   "pygments_lexer": "ipython3",
   "version": "3.10.4"
  }
 },
 "nbformat": 4,
 "nbformat_minor": 5
}
