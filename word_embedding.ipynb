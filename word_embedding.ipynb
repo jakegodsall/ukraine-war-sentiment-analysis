{
 "cells": [
  {
   "cell_type": "markdown",
   "id": "14490d49",
   "metadata": {},
   "source": [
    "# Ukraine War Sentiment Analysis Project"
   ]
  },
  {
   "cell_type": "markdown",
   "id": "ac3a05fc",
   "metadata": {},
   "source": [
    "### Required packages"
   ]
  },
  {
   "cell_type": "code",
   "execution_count": 15,
   "id": "de43aa30",
   "metadata": {},
   "outputs": [],
   "source": [
    "from pathlib import Path\n",
    "import numpy as np\n",
    "import pandas as pd\n",
    "\n",
    "import string\n",
    "from sklearn.preprocessing import LabelEncoder\n",
    "\n",
    "from tensorflow import keras\n",
    "from keras.preprocessing.text import Tokenizer, one_hot\n",
    "from keras.preprocessing.sequence import pad_sequences\n",
    "from keras import Sequential\n",
    "from keras import layers\n",
    "\n",
    "import matplotlib.pyplot as plt\n",
    "import seaborn as sns"
   ]
  },
  {
   "cell_type": "markdown",
   "id": "5c2240eb",
   "metadata": {},
   "source": [
    "### Defining paths and directory creation"
   ]
  },
  {
   "cell_type": "code",
   "execution_count": 4,
   "id": "48e0cafc",
   "metadata": {},
   "outputs": [
    {
     "name": "stdout",
     "output_type": "stream",
     "text": [
      "data/train.json\n",
      "data/test.json\n"
     ]
    }
   ],
   "source": [
    "# define Path object for data directory\n",
    "data_dir = Path('./data')\n",
    "\n",
    "# print data files\n",
    "for data_file in data_dir.glob('*'):\n",
    "    print(data_file)\n",
    "    \n",
    "# create directory for plots\n",
    "plots_dir = Path('./plots').mkdir(exist_ok=True)"
   ]
  },
  {
   "cell_type": "markdown",
   "id": "5ad9f8a5",
   "metadata": {},
   "source": [
    "### Loading in datasets"
   ]
  },
  {
   "cell_type": "code",
   "execution_count": 5,
   "id": "0d538832",
   "metadata": {},
   "outputs": [
    {
     "name": "stdout",
     "output_type": "stream",
     "text": [
      "(8263, 3)\n"
     ]
    },
    {
     "data": {
      "text/html": [
       "<div>\n",
       "<style scoped>\n",
       "    .dataframe tbody tr th:only-of-type {\n",
       "        vertical-align: middle;\n",
       "    }\n",
       "\n",
       "    .dataframe tbody tr th {\n",
       "        vertical-align: top;\n",
       "    }\n",
       "\n",
       "    .dataframe thead th {\n",
       "        text-align: right;\n",
       "    }\n",
       "</style>\n",
       "<table border=\"1\" class=\"dataframe\">\n",
       "  <thead>\n",
       "    <tr style=\"text-align: right;\">\n",
       "      <th></th>\n",
       "      <th>text</th>\n",
       "      <th>id</th>\n",
       "      <th>sentiment</th>\n",
       "    </tr>\n",
       "  </thead>\n",
       "  <tbody>\n",
       "    <tr>\n",
       "      <th>0</th>\n",
       "      <td>Досудебное расследование по факту покупки ЕНПФ...</td>\n",
       "      <td>1945</td>\n",
       "      <td>negative</td>\n",
       "    </tr>\n",
       "    <tr>\n",
       "      <th>1</th>\n",
       "      <td>Медики рассказали о состоянии пострадавшего му...</td>\n",
       "      <td>1957</td>\n",
       "      <td>negative</td>\n",
       "    </tr>\n",
       "    <tr>\n",
       "      <th>2</th>\n",
       "      <td>Прошел почти год, как железнодорожным оператор...</td>\n",
       "      <td>1969</td>\n",
       "      <td>negative</td>\n",
       "    </tr>\n",
       "    <tr>\n",
       "      <th>3</th>\n",
       "      <td>По итогам 12 месяцев 2016 года на территории р...</td>\n",
       "      <td>1973</td>\n",
       "      <td>negative</td>\n",
       "    </tr>\n",
       "    <tr>\n",
       "      <th>4</th>\n",
       "      <td>Астана. 21 ноября. Kazakhstan Today - Агентств...</td>\n",
       "      <td>1975</td>\n",
       "      <td>negative</td>\n",
       "    </tr>\n",
       "  </tbody>\n",
       "</table>\n",
       "</div>"
      ],
      "text/plain": [
       "                                                text    id sentiment\n",
       "0  Досудебное расследование по факту покупки ЕНПФ...  1945  negative\n",
       "1  Медики рассказали о состоянии пострадавшего му...  1957  negative\n",
       "2  Прошел почти год, как железнодорожным оператор...  1969  negative\n",
       "3  По итогам 12 месяцев 2016 года на территории р...  1973  negative\n",
       "4  Астана. 21 ноября. Kazakhstan Today - Агентств...  1975  negative"
      ]
     },
     "execution_count": 5,
     "metadata": {},
     "output_type": "execute_result"
    }
   ],
   "source": [
    "train = pd.read_json(data_dir / 'train.json')\n",
    "test = pd.read_json(data_dir / 'test.json')\n",
    "\n",
    "print(train.shape)\n",
    "train.head(5)"
   ]
  },
  {
   "cell_type": "markdown",
   "id": "ca991d7f",
   "metadata": {},
   "source": [
    "### Data preprocessing"
   ]
  },
  {
   "cell_type": "code",
   "execution_count": 7,
   "id": "266d4d7e",
   "metadata": {},
   "outputs": [
    {
     "data": {
      "text/plain": [
       "'досудебное расследование по факту покупки енпф пакета облигаций тоо бузгул аурум было начато по инициативе национального банка рк сообщил директор департамента защиты прав потребителей и финансовых услуг нацбанка казахстана александр терентьев\\nоснованием для досудебного расследования стало обращение национального банка письмо от 25 ноября 2016 года было обращение национального банка в правоохранительные органы нам эта сделка показалась сомнительной недостаточно корректной поэтому нацбанк 25 ноября 2016 года обратился в правоохранительные органы это то что я могу озвучить на сегодня идёт следствие проводится проверка – сказал терентьев\\n28 декабря в нацбанке заявили что не знают что стало основанием для проверки енпф\\n23 декабря факт проведения проверки в ао единый накопительный пенсионный фонд подтвердился прессслужба национального банка сообщила что проверку проводят по операциям совершённым ао енпф в отношении инвестирования собственных активов\\nтакже в финрегуляторе сообщали что по сделке енпф на сумму в пять млрд заведено уголовное дело в нацбанке заверяют что всё происходящее не затрагивает пенсионных накоплений казахстанцев\\nесли вы нашли ошибку в тексте выделите ее мышью и нажмите ctrlenter\\n'"
      ]
     },
     "execution_count": 7,
     "metadata": {},
     "output_type": "execute_result"
    }
   ],
   "source": [
    "# to lower\n",
    "train.text = train.text.apply(lambda x: x.lower())\n",
    "test.text = test.text.apply(lambda x: x.lower())\n",
    "\n",
    "# remove punctuation\n",
    "train.text = train.text.apply(lambda x: x.translate(str.maketrans('', '', string.punctuation)))\n",
    "test.text = test.text.apply(lambda x: x.translate(str.maketrans('', '', string.punctuation)))\n",
    "\n",
    "train.text[0]"
   ]
  },
  {
   "cell_type": "markdown",
   "id": "da350d30",
   "metadata": {},
   "source": [
    "### Visualising lengths of documents"
   ]
  },
  {
   "cell_type": "code",
   "execution_count": 10,
   "id": "f01152b1",
   "metadata": {},
   "outputs": [
    {
     "name": "stdout",
     "output_type": "stream",
     "text": [
      "Average document: 515 words\n",
      "Longest document: 49039 words\n",
      "1 std above the mean: 1707 words\n"
     ]
    },
    {
     "data": {
      "image/png": "[encoded data removed]",
      "text/plain": [
       "<Figure size 432x288 with 1 Axes>"
      ]
     },
     "metadata": {
      "needs_background": "light"
     },
     "output_type": "display_data"
    }
   ],
   "source": [
    "# get the number of words in each sample\n",
    "doc_len = train.text.apply(lambda x: len(x.split(' '))).to_numpy()\n",
    "max_words = int(doc_len.mean() + doc_len.std())\n",
    "\n",
    "# plot histogram\n",
    "sns.histplot(doc_len)\n",
    "plt.xlabel(\"Number of words\", fontsize=13)\n",
    "plt.ylabel(\"Count\", fontsize=13)\n",
    "\n",
    "print(f\"Average document: {int(doc_len.mean())} words\")\n",
    "print(f\"Longest document: {doc_len.max()} words\")\n",
    "print(f\"1 std above the mean: {max_words} words\")"
   ]
  },
  {
   "cell_type": "code",
   "execution_count": 11,
   "id": "1618639f",
   "metadata": {},
   "outputs": [
    {
     "name": "stdout",
     "output_type": "stream",
     "text": [
      "Number of training examples: 7871\n",
      "Number of test examples: 1943\n"
     ]
    },
    {
     "data": {
      "image/png": "[encoded data removed]",
      "text/plain": [
       "<Figure size 432x288 with 1 Axes>"
      ]
     },
     "metadata": {
      "needs_background": "light"
     },
     "output_type": "display_data"
    }
   ],
   "source": [
    "# removing any documents with len(words) greater than 1 std dev from mean\n",
    "train = train[train.text.apply(lambda x: len(x.split(' '))) < max_words]\n",
    "test = test[test.text.apply(lambda x: len(x.split(' '))) < max_words]\n",
    "\n",
    "sns.histplot(train.text.apply(lambda x: len(x.split(' '))))\n",
    "plt.xlabel(\"Number of words\", fontsize=13)\n",
    "plt.ylabel(\"Count\", fontsize=13)\n",
    "\n",
    "print(f\"Number of training examples: {train.shape[0]}\")\n",
    "print(f\"Number of test examples: {test.shape[0]}\")"
   ]
  },
  {
   "cell_type": "code",
   "execution_count": 8,
   "id": "af07fa93",
   "metadata": {},
   "outputs": [],
   "source": [
    "### under-sampling for balanced data set\n",
    "\n",
    "# print(train.sentiment.value_counts())\n",
    "\n",
    "# positive_train = train[train.sentiment == 'positive'].sample(1373)\n",
    "# neutral_train = train[train.sentiment == 'neutral'].sample(1373)\n",
    "# negative_train = train[train.sentiment == 'negative'].sample(1373)\n",
    "\n",
    "# train = pd.DataFrame(np.vstack([positive_train, neutral_train, negative_train]))\n",
    "# train.columns = ['text', 'id', 'sentiment']\n",
    "\n",
    "# print(train.sentiment.value_counts())"
   ]
  },
  {
   "cell_type": "code",
   "execution_count": 12,
   "id": "770993ca",
   "metadata": {},
   "outputs": [
    {
     "name": "stdout",
     "output_type": "stream",
     "text": [
      "X_train shape: (7871,)\n",
      "y_train shape: (7871,)\n",
      "\n",
      "X_test shape: (1943,)\n"
     ]
    }
   ],
   "source": [
    "X_train = train.text\n",
    "y_train = train.sentiment\n",
    "\n",
    "X_test = test.text\n",
    "\n",
    "print(f\"X_train shape: {X_train.shape}\")\n",
    "print(f\"y_train shape: {y_train.shape}\")\n",
    "print(f\"\\nX_test shape: {X_test.shape}\")"
   ]
  },
  {
   "cell_type": "markdown",
   "id": "1f52484c",
   "metadata": {},
   "source": [
    "### Training a base model"
   ]
  },
  {
   "cell_type": "code",
   "execution_count": 14,
   "id": "451dd8be",
   "metadata": {},
   "outputs": [
    {
     "name": "stdout",
     "output_type": "stream",
     "text": [
      "X_train shape: (7871, 1707)\n",
      "y_train shape: (7871,)\n"
     ]
    }
   ],
   "source": [
    "# number of words to consider in the vocabulary\n",
    "vocab_size = 1000\n",
    "\n",
    "# preprocessing X_train\n",
    "docs = X_train.to_numpy()\n",
    "encoded_docs = [one_hot(d, vocab_size) for d in docs]\n",
    "padded_docs = pad_sequences(encoded_docs, maxlen=max_words, padding='post')\n",
    "\n",
    "# preprocessing y_train\n",
    "encoder = LabelEncoder()\n",
    "labels = encoder.fit_transform(y_train)\n",
    "\n",
    "print(f\"X_train shape: {padded_docs.shape}\")\n",
    "print(f\"y_train shape: {labels.shape}\")"
   ]
  },
  {
   "cell_type": "code",
   "execution_count": 17,
   "id": "1ead4b47",
   "metadata": {},
   "outputs": [
    {
     "name": "stdout",
     "output_type": "stream",
     "text": [
      "Model: \"sequential_1\"\n",
      "_________________________________________________________________\n",
      " Layer (type)                Output Shape              Param #   \n",
      "=================================================================\n",
      " embedding_1 (Embedding)     (None, 1707, 8)           8000      \n",
      "                                                                 \n",
      " lstm_1 (LSTM)               (None, 8)                 544       \n",
      "                                                                 \n",
      " dense_1 (Dense)             (None, 3)                 27        \n",
      "                                                                 \n",
      "=================================================================\n",
      "Total params: 8,571\n",
      "Trainable params: 8,571\n",
      "Non-trainable params: 0\n",
      "_________________________________________________________________\n",
      "None\n"
     ]
    }
   ],
   "source": [
    "opt = keras.optimizers.SGD(learning_rate=0.0001)\n",
    "\n",
    "rnn_out = 8\n",
    "\n",
    "model = Sequential()\n",
    "model.add(layers.Embedding(vocab_size, 8, input_length=max_words))\n",
    "model.add(layers.LSTM(rnn_out))\n",
    "model.add(layers.Dense(3, activation='softmax'))\n",
    "\n",
    "model.compile(optimizer=opt,\n",
    "              loss='sparse_categorical_crossentropy',\n",
    "              metrics=['accuracy'])\n",
    "\n",
    "print(model.summary())"
   ]
  },
  {
   "cell_type": "code",
   "execution_count": null,
   "id": "44313884",
   "metadata": {},
   "outputs": [
    {
     "name": "stdout",
     "output_type": "stream",
     "text": [
      "Epoch 1/10\n",
      "212/246 [========================>.....] - ETA: 17s - loss: 1.0941 - accuracy: 0.4829"
     ]
    }
   ],
   "source": [
    "history = model.fit(padded_docs, labels, epochs=10, verbose=1)"
   ]
  },
  {
   "cell_type": "code",
   "execution_count": null,
   "id": "da1487e3",
   "metadata": {},
   "outputs": [],
   "source": [
    "plt.plot(history.history['accuracy'])\n",
    "plt.plot(history.history['val_accuracy'])\n",
    "plt.title('model accuracy')\n",
    "plt.ylabel('accuracy')\n",
    "plt.xlabel('epoch')\n",
    "plt.legend(['train', 'val'], loc='upper left')\n",
    "plt.show()"
   ]
  },
  {
   "cell_type": "markdown",
   "id": "87eb94df",
   "metadata": {},
   "source": [
    "### Training with pretrained embeddings"
   ]
  },
  {
   "cell_type": "code",
   "execution_count": null,
   "id": "1cb3abbe",
   "metadata": {},
   "outputs": [],
   "source": [
    "path_to_model_file = \"model/model.txt\"\n",
    "\n",
    "embeddings_index = {}\n",
    "with open(path_to_model_file) as f:\n",
    "    for line in f:\n",
    "        word, coefs = line.split(maxsplit=1)\n",
    "        coefs = np.fromstring(coefs, \"f\", sep=\" \")\n",
    "        embeddings_index[word.split('_')[0]] = coefs\n",
    "\n",
    "print(\"Found %s word vectors.\" % len(embeddings_index))"
   ]
  },
  {
   "cell_type": "code",
   "execution_count": null,
   "id": "2fd523fa",
   "metadata": {},
   "outputs": [],
   "source": [
    "t = Tokenizer()\n",
    "\n",
    "t.fit_on_texts(X_train)\n",
    "\n",
    "vocab_size = len(t.word_index) + 1\n",
    "\n",
    "encoded_docs = t.texts_to_sequences(X_train)\n",
    "\n",
    "max_length = 200\n",
    "padded_docs = pad_sequences(encoded_docs, maxlen=max_length, padding='post')"
   ]
  },
  {
   "cell_type": "code",
   "execution_count": null,
   "id": "33d64016",
   "metadata": {},
   "outputs": [],
   "source": [
    "# create a weight matrix for words in training docs\n",
    "embedding_matrix = np.zeros((vocab_size, 300))\n",
    "for word, i in t.word_index.items():\n",
    "    embedding_vector = embeddings_index.get(word)\n",
    "    if embedding_vector is not None:\n",
    "        embedding_matrix[i] = embedding_vector\n",
    "\n",
    "embedding_matrix.shape"
   ]
  },
  {
   "cell_type": "code",
   "execution_count": null,
   "id": "82f92744",
   "metadata": {},
   "outputs": [],
   "source": [
    "padded_docs"
   ]
  },
  {
   "cell_type": "code",
   "execution_count": null,
   "id": "9f3fbe64",
   "metadata": {},
   "outputs": [],
   "source": [
    "from tensorflow import keras\n",
    "opt = keras.optimizers.SGD(learning_rate=0.0001)"
   ]
  },
  {
   "cell_type": "code",
   "execution_count": null,
   "id": "6e67e6cb",
   "metadata": {},
   "outputs": [],
   "source": [
    "lstm_out = 16\n",
    "\n",
    "model = Sequential()\n",
    "model.add(layers.Embedding(vocab_size, 300, weights=[embedding_matrix], input_length=max_length, trainable=False))\n",
    "model.add(layers.LSTM(lstm_out, dropout=0.2, recurrent_dropout=0.2))\n",
    "model.add(layers.Dense(3, activation='softmax'))\n",
    "\n",
    "model.compile(optimizer='adam', loss='sparse_categorical_crossentropy', metrics=['accuracy'])\n",
    "\n",
    "print(model.summary())"
   ]
  },
  {
   "cell_type": "code",
   "execution_count": null,
   "id": "6674a0ed",
   "metadata": {},
   "outputs": [],
   "source": [
    "\n",
    "encoder = LabelEncoder()\n",
    "labels = encoder.fit_transform(train.sentiment)"
   ]
  },
  {
   "cell_type": "code",
   "execution_count": null,
   "id": "38c2620e",
   "metadata": {},
   "outputs": [],
   "source": [
    "history = model.fit(padded_docs, labels, epochs=20, validation_split=0.2, verbose=1)"
   ]
  },
  {
   "cell_type": "code",
   "execution_count": null,
   "id": "1907d40e",
   "metadata": {},
   "outputs": [],
   "source": [
    "plt.plot(history.history['accuracy'])\n",
    "plt.plot(history.history['val_accuracy'])\n",
    "plt.title('model accuracy')\n",
    "plt.ylabel('accuracy')\n",
    "plt.xlabel('epoch')\n",
    "plt.legend(['train', 'val'], loc='upper left')\n",
    "plt.show()"
   ]
  },
  {
   "cell_type": "code",
   "execution_count": null,
   "id": "5c44caa9",
   "metadata": {},
   "outputs": [],
   "source": []
  }
 ],
 "metadata": {
  "kernelspec": {
   "display_name": "Python 3 (ipykernel)",
   "language": "python",
   "name": "python3"
  },
  "language_info": {
   "codemirror_mode": {
    "name": "ipython",
    "version": 3
   },
   "file_extension": ".py",
   "mimetype": "text/x-python",
   "name": "python",
   "nbconvert_exporter": "python",
   "pygments_lexer": "ipython3",
   "version": "3.10.4"
  }
 },
 "nbformat": 4,
 "nbformat_minor": 5
}
